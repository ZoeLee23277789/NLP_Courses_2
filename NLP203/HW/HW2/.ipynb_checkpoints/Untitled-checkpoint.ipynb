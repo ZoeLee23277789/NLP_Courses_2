{
 "cells": [
  {
   "cell_type": "code",
   "execution_count": null,
   "id": "d7a108f8-7621-4d9c-867b-3c0cbcd5a6ea",
   "metadata": {
    "tags": []
   },
   "outputs": [],
   "source": [
    "!pip uninstall pillow\n",
    "!pip install --no-cache-dir pillow\n"
   ]
  },
  {
   "cell_type": "code",
   "execution_count": 5,
   "id": "6cbe76b4-4610-44bc-9788-5b751db83064",
   "metadata": {
    "tags": []
   },
   "outputs": [
    {
     "name": "stdout",
     "output_type": "stream",
     "text": [
      "Name: Pillow\n",
      "Version: 9.3.0\n",
      "Summary: Python Imaging Library (Fork)\n",
      "Home-page: https://python-pillow.org\n",
      "Author: Alex Clark (PIL Fork Author)\n",
      "Author-email: aclark@python-pillow.org\n",
      "License: HPND\n",
      "Location: c:\\users\\user\\anaconda3\\envs\\nlp203\\lib\\site-packages\n",
      "Requires: \n",
      "Required-by: torchvision\n"
     ]
    }
   ],
   "source": [
    "# python --version\n",
    "!pip show pillow\n"
   ]
  },
  {
   "cell_type": "code",
   "execution_count": 5,
   "id": "1629485f-1a35-46e6-8532-591d3b0a83db",
   "metadata": {
    "tags": []
   },
   "outputs": [
    {
     "name": "stdout",
     "output_type": "stream",
     "text": [
      "{'qas': [{'question': 'What is Clodstridium difficile?', 'id': '913', 'answers': [{'text': 'Gram positive, anaerobic bacterium', 'answer_start': 433}], 'is_impossible': False}, {'question': 'What is sporulation?', 'id': '914', 'answers': [{'text': 'adaptive strategy that enables bacteria to survive harsh environmental conditions for prolonged periods of time', 'answer_start': 1992}], 'is_impossible': False}, {'question': 'What is the key regulator to sporulation?', 'id': '915', 'answers': [{'text': 'Spo0A', 'answer_start': 2243}], 'is_impossible': False}, {'question': 'What are the main virulence factors in C. difficle?', 'id': '916', 'answers': [{'text': 'toxins A and B', 'answer_start': 4755}], 'is_impossible': False}], 'context': \"C. difficile 630Δerm Spo0A Regulates Sporulation, but Does Not Contribute to Toxin Production, by Direct High-Affinity Binding to Target DNA\\n\\nhttps://www.ncbi.nlm.nih.gov/pmc/articles/PMC3485338/\\n\\nSHA: f0fb3bbd96dad4c907c7fd456cd5783ed8fa7bd6\\n\\nAuthors: Rosenbusch, Katharina E.; Bakker, Dennis; Kuijper, Ed J.; Smits, Wiep Klaas\\nDate: 2012-10-31\\nDOI: 10.1371/journal.pone.0048608\\nLicense: cc-by\\n\\nAbstract: Clostridium difficile is a Gram positive, anaerobic bacterium that can form highly resistant endospores. The bacterium is the causative agent of C. difficile infection (CDI), for which the symptoms can range from a mild diarrhea to potentially fatal pseudomembranous colitis and toxic megacolon. Endospore formation in Firmicutes, including C. difficile, is governed by the key regulator for sporulation, Spo0A. In Bacillus subtilis, this transcription factor is also directly or indirectly involved in various other cellular processes. Here, we report that C. difficile Spo0A shows a high degree of similarity to the well characterized B. subtilis protein and recognizes a similar binding sequence. We find that the laboratory strain C. difficile 630Δerm contains an 18bp-duplication near the DNA-binding domain compared to its ancestral strain 630. In vitro binding assays using purified C-terminal DNA binding domain of the C. difficile Spo0A protein demonstrate direct binding to DNA upstream of spo0A and sigH, early sporulation genes and several other putative targets. In vitro binding assays suggest that the gene encoding the major clostridial toxin TcdB may be a direct target of Spo0A, but supernatant derived from a spo0A negative strain was no less toxic towards Vero cells than that obtained from a wild type strain, in contrast to previous reports. These results identify for the first time direct (putative) targets of the Spo0A protein in C. difficile and make a positive effect of Spo0A on production of the large clostridial toxins unlikely.\\n\\nText: Sporulation is an adaptive strategy that enables bacteria to survive harsh environmental conditions for prolonged periods of time, and is an integral part of the transmission of sporulating pathogens and their tolerance and resistance towards antimicrobial compounds.\\n\\nSpo0A is the key regulator for sporulation [1, 2] . Most of our knowledge about the protein is based on work in Bacilli. Spo0A is a response regulator that demonstrates phosphorylation dependent binding to DNA [3] [4] [5] . Phosphorylation occurs through the concerted action of several proteins that together form a so called phosphorelay [6] . The signaling cascade allows for the integration of environmental signals into the regulation of Spo0A dependent processes, including sporulation. The two functional domains, the N-terminal phosphorylation and dimerization domain (receiver domain), and the C-terminal DNA binding (effector) domain are separated by a hinge region that is relatively poorly conserved [7] . Phosphorylation is believed to result in a structural rearrangement that facilitates dimerization [8, 9] , resulting in the disruption of transcription-inhibitory contacts between the receiver and effector domains. The isolated DNA binding domain can bind legitimate targets of the Spo0A protein due to the absence of the transcription inhibitory contacts, thereby bypassing the need for phosphorylation [10] . Extensive characterization of Spo0A targets has revealed a motif that represents a high affinity Spo0A binding site, the 0A box [10, 11] . The crystal structure of the DNA binding domain confirms specific and non-specific contacts between the protein and the consensus sequence [12, 13] . It is noteworthy that Spo0A regulates many other processes than sporulation, such as competence for genetic transformation, DNA replication, and biofilm formation in B. subtilis [14] [15] [16] , virulence factors and stress responses in for instance B. anthracis and B. thuringiensis [17] [18] [19] [20] [21] , and solvent production in Clostridium acetobutylicum [22, 23] .\\n\\nC. difficile is a Gram positive, anaerobic bacterium that is the causative agent of C. difficile infection (CDI) (for recent reviews see [24, 25] ). Though many people are asymptomatically colonized by C. difficile, the bacterium can cause serious health problems, such as pseudomembranous colitis and toxic megacolon, under the influence of risk factors such as age and antibiotic use. As a result, CDI was long regarded a nosocomial infection. Recently, however, an increase in the cases of community acquired CDI can be observed [26] . Outbreaks of CDI have been linked to so called hypervirulent strains, such as PCR ribotypes 027 (BI/ NAP1) and 078 [27, 28] . Its main virulence factors are the major clostridial toxins A and B [29, 30] . In addition, certain strains of C. difficile, including ribotypes 027 and 078, additionally encode a binary toxin [31, 32] . C. difficile is transmitted via the fecal-oral route. It is believed that spores are crucial to successfully infect new hosts, as they are able to withstand the harsh environment of the stomach, and survive antibiotic treatments that alter the endogenous flora, after which C. difficile can overgrow [24, 25] .\\n\\nThere is limited knowledge about the regulation of sporulation in C. difficile. It has been reported that spo0A, as expected, is required for the formation of spores [33] and the gene is required for persistence and transmission in mice [34] . Though the pathways downstream of Spo0A seem to a large extent conserved between B. subtilis and Clostridia, this is less so for the pathways leading to activation of Spo0A [2] . It has been suggested that the orphan histidine kinase CD2492 is involved in the activation of Spo0A [35] . Similarly, it was reported that multiple orphan histidine kinases can phosphorylate Spo0A in C. acetobutylicum [36] . Recently, it was reported that spo0A can be transcribed from a SigH-dependent promoter [37] . It is unknown which genes are regulated by direct binding of Spo0A to their upstream regions.\\n\\nHere, we establish an in vitro binding assay for C. difficile Spo0A and demonstrate for the first time direct binding of this transcription factor to DNA upstream of several putative target genes.\\n\\nEscherichia coli strains were routinely grown in Luria-Bertani broth or plates, supplemented with appropriate antibiotics. Chloramphenicol was used at a final concentration of 20 mg/mL for agar plates and 10 mg/mL for liquid cultures. Ampicillin was used at a final concentration of 100 mg/mL. Kanamycin was used at a final concentration of 20 mg/mL. Cloning was carried out using E. coli DH5a, overexpression was performed in E. coli Rosetta(DE3) pLysS (Novagen). C. difficile strains were grown in a glucose-free trypton-yeast based medium (TTY; 3% w/v bactotrypton (BD), 2% yeast extract (Fluka), 0.1% w/v thioglycollate (Sigma) pH 7.4), supplemented with 20 mg/mL of lincomycin when appropriate, or on CLO or TSS plates (Biomerieux).\\n\\nAll plasmids are listed in Table 1 . Primers (obtained from Sigma Aldrich) are listed in Text S1 and specific cycling conditions are available on request. Unless noted otherwise, PCR reactions were carried out using Pfu polymerase (Fermentas) according to the instructions of the manufacturer.\\n\\nPlasmid pWKS1251, for the overproduction of Spo0A-DBD carrying a C-terminal 66His-tag, was constructed as follows. A sequence corresponding to the DNA binding domain of Spo0A was amplified using primers oWKS-1123a and oWKS-1124 using chromosomal DNA from C. difficile strain 630Derm as a template. The resulting fragment was cloned into pCR2.1-TOPO (Invitrogen), yielding pWKS1247. This plasmid was digested with NdeI and XhoI, separated on a 1% agarose/0.56 TAE (20 mM Tris Acetate, 0.5 mM EDTA) gel, the fragment corresponding to the DNA binding domain was recovered by gel-isolation (using a GeneJET Gel Extraction kit, Fermentas) and cloned into similarly digested pMF14 [10] that had been gel-isolated in the same manner. The construct was verified by PCR, restriction analyses and DNA sequencing using primers oWKS-135 and oWKS-136 (see below).\\n\\nPlasmid pWKS1245, for the production of full length Spo0A carrying a C-terminal 6xHis-tag, was constructed in a similar manner using chromosomal DNA from C. difficile 630Derm as a template, but using the PCR product of primers oWKS-1122 and oWKS-1123a.\\n\\nPlasmids used as PCR templates for generating EMSA probes were constructed by cloning the PCR products into pCR2.1-TOPO. The inserts, and in the case of the mutated PabrB promoters the presence of the desired point mutations in the consensus 0A box, were verified by DNA sequencing using primers oWKS-24 and oWKS-25 (see below).\\n\\nSequence grade plasmids were isolated using a Nucleospin Plasmid QuickPure kit (Macherey Nagel) according to the manufacturer's instructions, except that two lysis reactions were combined onto a single filter and eluted with 65uC prewarmed AE buffer. All constructs were sequenced using BigDye Terminator chemistry (Invitrogen) on an ABI3130 sequencer (Perkin Elmer), according to the instructions of the manufacturers. In short, ,200 ng of plasmid was mixed with 3.2 pmol of primer, 1 mL Terminator Ready Reaction Mix (Invitrogen) in a final volume of 20 mL. After thermocycling, DNA was precipitated and washed with 65% isopropanol, and dissolved in 12 mL HiDi formamid (Invitrogen) at 96uC for 2 mins and stored in the dark at 4uC until the sequencing run. Sequence analyses were performed in CloneManager Professional Suite 7 (SciEd) and Geneious version 5.6.2 (Biomatters Ltd).\\n\\nPlasmids pWKS1245 and pWKS1251 were transformed into E. coli Rosetta(DE3) pLysS (Novagen). Transformants were used to inoculate 25 mL of LB with appropriate antibiotics. After overnight incubation, the cells were 1:100 diluted in 500 mL fresh medium containing appropriate antibiotics. Protein production was induced with 1 mM IPTG at an OD600 of 0.7 and growth was continued for another three hours before harvesting. Cells were washed with ice cold PBS and stored at 280uC for later use. Purification of the proteins was essentially done as described [10] . In short, cells were disrupted in 4 mL lysis buffer (2 mM PMSF, 10 mM imidazole, 5 mM beta-mercaptoethanol, 300 mM NaCl, 50 mM NaH 2 PO 4 , pH 7.9). Cleared cell lysates we incubated with 2 mL pre-equilibrated 50% TALON slurry (Clontech) in a final volume of 15 mL lysis buffer for 1 hr. The resin was allowed to settle on a Poly-Prep column (BioRad) and washed with 2 mL wash buffer (20 mM imidazole, 300 mM NaCl, 50 mM NaH 2 PO 4 , pH 7.9). The protein was stepwise eluted in 1 mL fractions after applying 2 mL elution buffer to the column (identical to wash buffer but with 50, 100, 250 or 500 mM imidazole). The whole procedure was carried out at 4uC. Fractions were assayed for purity and yield and suitable fractions were dialysed against 26 1L dialysis buffer (50 mM Tris-HCl pH 8, 1 mM EDTA, 0.5 mM DTT) using Slide-A-Lyzer cassettes with a molecular weight cut-off of 3.5 kDa (Pierce).\\n\\nProteins were stored at 280uC in storage buffer (identical to dialysis buffer but containing 20% glycerol). Protein concentrations were determined using Bradford reagent (BioRad), according to the manufacturer's instructions.\\n\\nDNA fragments for use in EMSA experiment were generated by PCR using GoTaq polymerase (Promega) and chromosomal DNA from B. subtilis JH642 (Bacillus Genetic Stock Center 1A96; http://www.bgsc.org), plasmids listed in Table 1 , or chromosomal DNA from C. difficile 630Derm [38] as a template. Primers and specific cycling conditions for generation of the EMSA probes are listed in Text S1. DNA fragments of the expected size were isolated from a 16TAE/8% native polyacrylamide gel using diffusion buffer (0.5 M ammonium acetate, 10 mM magnesium acetate, 1 mM EDTA pH 8, 0.1% SDS) and a QIAExII kit (Qiagen), according to the manufacturer's instructions. Recovered DNA was end-labeled with 32P-c-ATP using FR buffer and T4 kinase (Invitrogen) according to the instructions of the manufacturer. Specific activity was determined on a LS6000 scintillation counter (Beckman).\\n\\nEMSA conditions were based on previous studies [10] . In short, binding reactions were carried out in binding buffer (10 mM Tris-HCl pH 7.6, 1 mM EDTA, 50 mM NaCl, 1 mM DTT, 5% glycerol) in the presence of 200 mg/mL bovine serum albumin (NEB) and 200 cpm/mL radiolabeled DNA fragment. Reactions were incubated for 20 minutes at 30uC prior to loading on a 16TAE/8% non-denaturing polyacrylamide gel that was prerun for 20 minutes at 50 V in 16 TAE buffer. Electrophoresis was carried out for 120 min at 85 V. After vacuum drying the gels onto filter paper, they were imaged after overnight exposure on Phosphorimager screens on a Typhoon instrument (GE Healthcare).\\n\\nThe toxic effects of C. difficile culture supernatants on Vero cells (a kind gift of Eric Snijder [39] ) were determined as follows. Supernatant from a bacterial culture was harvested by centrifuging cells for 3 minutes at 140006g and filtered on a 0.45 mM cellulose acetate filter using a syringe. Supernatants were 2-fold serially diluted in cell culture medium (Dulbecco modified Eagle medium (Lonza) supplemented with 100 mg/mL penicillin, 100 U/mL streptomycin, 10% fetal calf serum), before applying them to a monolayer of Vero cells, and incubation was continued for another hour. As a positive control, 50 mL 1:10 diluted purified toxin (Techlab) was added to the cells. To determine if observed cytotoxic effects were specific for the large clostridial toxins, commercially available anti-toxin against TcdA and TcdB (Techlab) was added to 10-fold diluted bacterial supernatant for 60 min prior to incubation on the Vero cells. Toxin end-point titres were defined as the lowest dilution at which no cytopathological effects (cell rounding) were observed.\\n\\nStatistical significance was evaluated with an independent sample t-test.\\n\\nImmunization of mice with full length C. difficile Spo0A-6xHis was kindly performed at the Welcome Trust Sanger Institute (Hinxton, UK). Cells from 1 mL of C. difficile culture were collected by centrifugation for 1 min at 14000 rpm in a table top centrifuge and resuspended in 200 mL resuspension buffer (10 mM Tris HCl pH 8, 10 mM EDTA, 0.5 mg/mL lysozyme, 1 mM Pefabloc SC (Roche)). After incubation for 30 mins at 37uC, 50 mL of 56 SDS sample buffer (0.1 M DTT, 2% SDS, 50 mM Tris HCl pH 6.8, 10% glycerol, 0.0025% BPB) was added, and samples were heated to 96uC for 5 mins. Total cell lysates (amounts corrected for OD 600 ) were separated on a 12% SDS-PAGE gel prior to semi-dry blotting for 1 h at 10 V to a polyvinylidene fluoride (PVDF) membrane. Membranes were blocked in PBST buffer (phosphate buffered saline with 0.1% v/v Tween-20) containing 5% membrane blocking reagent (Amersham Biosciences). To visualize Spo0A protein cleared polyclonal serum from a single mouse at a 1:3000 dilution was used, followed by either a goat-anti-mouse HRP-conjugated secondary antibody followed by ECL+ detection (Amersham Bioscience), or a goatanti-mouse-biotin-conjugated secondary antibody (Dako) followed by a tertiary mouse-anti-biotin Cy3-conjugated antibody (Jackson). Detection was done using on a Typhoon instrument (GE Healthcare). Background corrected peak volumes were quantified using ImageQuant TL (Amersham Biosciences).\\n\\nAlignments of B. subtilis and C. difficile spo0A were made using ClustalW2 (http://www.ebi.ac.uk/Tools/msa/clustalw2/) on the basis of the published genome sequences, Genbank accession numbers AL009126 and AM180355, respectively, and the 630Derm spo0A sequence as determined in this study. The sequence for spo0A of C. difficile strain 630Derm was deposited in Genbank (accession no JX050222). Consensus Spo0A boxes were identified using a Single string Search command in Genome2D [40] , allowing 0 mismatches. The box positions were linked to upand downstream genes using the ''Add nearest gene to List of DNA Motifs'' feature and Microsoft Excel. The results were manually inspected for those boxes within 500 bp upstream of a gene on the same strand. Figures for publication were prepared using ImageQuant TL (Amersham Biosciences), Adobe Photoshop CS3 (Adobe Systems Inc) and Corel Graphics Suite X5 (Corel Corporation).\\n\\nIn order to characterize C. difficile Spo0A, the full length protein and its DNA binding domain (DBD) were expressed as a Cterminally 66His-tagged protein in the heterologous host Escherichia coli (Fig. 1A) and purified to near homogeneity using metal affinity chromatography ( Fig. 1A ; lanes P). Full length protein was used to raise antibodies to detect Spo0A in total lysates of C. difficile strains, and the purified DNA binding domain was used in subsequent in vitro binding assays (see below).\\n\\nWe determined the expression of C. difficile Spo0A throughout growth. We found that the protein is present in lysates from exponential to stationary growth phase cells. We performed immunoblotting using polyclonal antibodies against C. difficile Spo0A on total lysates of wild type and spo0A mutant cells grown in a trypton-yeast based medium (TTY). We found a clear signal of the size expected for full length Spo0A (,31 kDa) as early as 3 hours post inoculation (exponential growth phase), through transition phase (8 h) as well as 24 and 48 hours post inoculation (stationary growth phase) ( Figure 1B; 630Derm) . The signals were specific for C. difficile Spo0A as they were absent from lysates from the C. difficile spo0A mutant (Fig. 1B , CT::spo0A). We obtained similar results in other media, such as the commonly used supplemented brain heart infusion broth (BHIS; data not shown).\\n\\nTo determine relative levels of Spo0A throughout growth, we performed an immunoblot experiment using fluorescent antibodies, which gives more quantitative information compared to the use of horseradish peroxidase conjugated antibodies in our hands. We found that the levels of Spo0A increases approximately 20-fold from 6 hours post inoculation and remains at similar levels from 8 to 48 hours post inoculation ( Figure 1C ).\\n\\nThough it should be noted that the Western blots do not provide information on the phosphorylation state of the protein, we conclude that the protein in active or inactive form is present throughout growth and is more abundant in stationary growth phase.\\n\\nSpo0A of C. difficile Strain 630Derm Contains a 6aminoacid Duplication BLAST homology searches readily identify a homolog of the well-characterized B. subtilis Spo0A protein in C. difficile 630 (CD1214) and previous work demonstrated that a spo0A mutant (an insertional inactivation of cd1214) -as expected -no longer forms spores [41] . In silico analyses suggest a similar secondary structure for both proteins ( Fig. 2A) , with a conserved dimerization and DNA binding domain, separated by a poorly conserved hinge region [7, 12] .\\n\\nWe compared the sequence of CD1214 obtained from our lab strain 630Derm [38] to that of the published C. difficile 630 genome [42] . Strain 630Derm is a spontaneous erythromycin sensitive strain, which is commonly used in mutagenesis studies and was obtained by serial passaging of strain 630 [33, 38] . The 630Derm spo0A sequence (Genbank accession no JX050222) was derived from the expression plasmids constructed for this study, and confirmed in a whole genome sequence of strain 630Derm generated in our lab (data not shown). We found that 630Derm spo0A contains an 18 base pair direct repeat, resulting in a 6 amino acid (NVGNIE) duplication compared to the published reference sequence. The duplication maps to a region of the protein with relatively low sequence conservation (hinge), flanking the highly conserved DNA binding domain ( Fig. 2A  and B) . We verified the absence of this duplication in strain 630 by PCR (Fig. 2C ) as well as sequencing from the chromosomal DNA of C. difficile 630 (data not shown), to rule out an error in the original genome sequence and to demonstrate that the difference in size of the PCR product was specific to the 18 bp insertion. In addition, we checked several other strains of PCR ribotypes 12 (to which 630 and 630Derm belong) by PCR, but the duplication was found to be unique to 630Derm among the isolates tested (data not shown).\\n\\nC. difficile Spo0A-DBD Shows Similar Specificity as B. subtilis Spo0A-DBD Next, we examined the conservation of the DNA binding domain of Spo0A (Spo0A-DBD) between B. subtilis and C. difficile. In B. subtilis amino acid residues contacting the backbone of the DNA and interacting with specific residues of the Spo0A binding sequence have been defined [13] . We found that all these residues were conserved in the C. difficile protein sequence (Fig. 2B) , indicating that the protein likely recognizes a similar motif.\\n\\nDNA binding by full length Spo0A in B. subtilis requires phosphorylation dependent dimerization [8, 9] . However, it was shown that the isolated DBD is capable of binding to legitimate targets of the full length protein [10] . Analogously, we purified the C. difficile Spo0A-DBD for use in in vitro binding assays. As no direct targets for the C. difficile protein have been reported so far, we used the upstream region of the abrB gene (PabrB) of B. subtilis. PabrB is commonly used as a high-affinity control in binding assays with the B. subtilis Spo0A or Spo0A-DBD protein [43, 44] . It is noteworthy that we failed to identify a homolog of abrB in C. difficile using BLAST, indicating that potential indirect regulation by Spo0A cannot occur through abrB in C. difficile as it does in B. subtilis. We found that C. difficile Spo0A-DBD bound with high affinity to PabrB (Fig. 2D and E) . We performed electrophoretic mobility shift assays (EMSAs) using radiolabeled PabrB and increasing amounts of purified C. difficile Spo0A-DBD that was purified using a C-terminal 66His-tag. The addition of protein leads to a dose-dependent retardation of the DNA fragment with an apparent K D of ,50 nM. In the same range of protein concentrations, no binding was observed for a negative control (a DNA fragment of B. subtilis citG [45] ) (Fig. 2E) , suggesting that binding was specific for the abrB promoter region.\\n\\nB. subtilis Spo0A recognizes a distinct sequence (0A box), that is characterized by a 7 bp core motif (TGTCGAA) [10, 11] . Structural studies have revealed that the protein makes specific contacts with the G at position 2 (G2), and the C at position 4 (C4) and 5 (G5) of this motif [13] . We introduced G2A, C4A, G5A, G2A/C4A and C4A/G5A mutations in the perfect consensus core 0A-box present in PabrB. We found that the affinity of C. difficile Spo0A for these mutated PabrB fragments was highly reduced (Fig. 2E) . We performed EMSAs using radiolabeled PabrB containing the mutated core sequence. For the single point mutations in the DNA, the affinity decreased ,10-fold. There did not seem to be an additive effect of a second point mutation for the two combinations tested. None of the mutations abolished binding of C. difficile Spo0A completely, most likely as the result of binding of Spo0A to other (non-consensus) 0A boxes in the abrB promoter [44] .\\n\\nTaken together, we conclude that the guanine and cytosine residues in the core TGTCGAA motif of PabrB are important for specific binding of this fragment by C. difficile Spo0A-DBD.\\n\\nValue for Binding by C. difficile Spo0A-DBD Above, we have established that the Spo0A-DBD of C. difficile is highly homologous to that of the B. subtilis Spo0A protein, and that the proteins recognize a similar consensus sequence (Fig. 2 ). Based on this information, we identified the several genes as putative direct targets of C. difficile Spo0A.\\n\\nWe queried the C. difficile 630 genome sequence for perfect matches to the core 0A box using Genome2D [40] . Such an analysis revealed the presence of 102 matching motifs, of which 45 were located within 500 bp of the initiating ATG of an open reading frame on the same strand (see Table S1 ). Our attention was drawn to spo0A and sigH, as these two genes were previously found to be regulated by Spo0A in B. subtilis and/or play important roles in sporulation [3, [46] [47] [48] . We found that C. difficile Spo0A bound to DNA sequences upstream of spo0A and sigH.\\n\\nWe performed EMSAs with DNA encompassing 220-281 bp upstream of the initiating ATG codon of the spo0A, sigH and spoVG open reading frames. We found that the addition of Spo0A-DBD to the reactions caused retardation of the spo0A and sigH DNA fragments (Fig. 3A) , but not of a spoVG fragment which did not contain a consensus 0A box (Fig. 3B) . It should be noted that the affinity of Spo0A-DBD for the region upstream of spo0A was the highest we have observed so far for any C. difficile DNA. Moreover, the presence of multiple shifted species could indicate the presence of more than one strong binding site. These results establish that spo0A and sigH are likely legitimate targets of Spo0A in C. difficile, and confirm that spoVG is not, in line with results obtained in B. subtilis [10] .\\n\\nWe were interested to see if Spo0A in C. difficile could potentially regulate genes that have no documented function in sporulation. Our in silico analysis identified several genes with no obvious link to sporulation that had a consensus 0A box within 100 bp upstream of their start codon. This positioning is similar to that observed for spo0A (275) and sigH (278). We confirmed in vitro binding of the C. difficile Spo0A-DBD to the promoter regions of lplA and ssuA.\\n\\nWe carried out EMSA experiments using probes that included the perfect consensus site and purified Spo0A-DBD protein. We observed binding of the protein to fragments upstream of the lplA gene (CD1654; box at 267) and the ssuA gene (CD1484; box at 282) (Fig. 3A) . The lplA gene encodes a predicted lipoate-protein ligase, and ssuA is annotated as an aliphatic sulfonates ABC transporter; to our knowledge, neither of these have been directly implicated in sporulation or have found to be targets for Spo0A in other organisms.\\n\\nTogether our results establish the potential for binding of Spo0A to DNA upstream of spo0A and sigH, two genes that are important for sporulation, and indicate that Spo0A may have functions that go beyond the regulation of sporulation in C. difficile.\\n\\nIt has been established that a spo0A mutant of C. difficile does not produce any spores, consistent with a crucial role in the sporulation pathway [33] . However, the in silico identification of upstream regions with a consensus Spo0A binding site did not point to any of the early sporulation genes (downstream of spo0A itself) as direct targets of Spo0A. This is likely the result of variations in the 0A-box in these promoters that were disregarded in the box search. In support of this, many well-characterized legitimate direct targets of B. subtilis Spo0A (such as spoIIAA and spoIIE) do not contain a 100% match to the core motif, but rather one or more near-consensus boxes [5, 49] . We found that Spo0A- We performed EMSA experiments using increasing amounts of purified Spo0A-DBD from C. difficile 630Derm and the DNA fragments indicated above (Fig. 3B ). For spoIIAA (encoding an antianti sigma-factor) and spoIIE (encoding a serine phosphatase), we observed a low intensity shifted species at concentrations as low as 150 nM. For spoIIGA (encoding a sporulation specific protease) we observed the shifted species only at higher concentrations of protein (.200 nM). The negative control (spoVG) did not demonstrate binding of Spo0A-DBD at these concentrations. Moreover, the shift we observed was reversible using unlabeled DNA containing a high affinity binding site, but not using unlabeled DNA that lacked such a site ( Figure S1B-D) . Therefore, we consider the binding to spoIIAA, spoIIE and spoIIGA genes to be specific, despite the fact that increasing the amount of protein did not seem to cause a significant increase in the amount of DNA in the complex.\\n\\nTogether, these results suggest that Spo0A in C. difficile might regulate the transcription of at least a subset of early sporulation genes by direct binding to their promoter regions.\\n\\nC. difficile Spo0A-DBD Binds to DNA Upstream of tcdB It has previously been reported that the deletion of Spo0A in C. difficile results in a significantly lower toxin production and a ,1000-fold reduction in the toxicity of culture supernatant derived from spo0A negative cells towards Vero cells [35] . Considering the absence of a homolog of the abrB repressor, direct binding of Spo0A and concomitant activation of toxin gene transcription is a likely mechanism through which this could occur. We found evidence for direct binding of Spo0A-DBD to the region upstream of tcdB, encoding one of the major clostridial toxin genes, and possibly tcdC, but this did not seem to result in lower toxin levels in our hands.\\n\\nWe performed EMSAs using DNA upstream of tcdR (encoding a sigma factor responsible for the activation of toxin gene transcription), tcdB (encoding toxin B), tcdA (encoding toxin A). In order to test regions upstream of all open reading frames in the PaLoc, we also tested binding of Spo0A to DNA upstream of tcdE (encoding a holin-like protein [50, 51] ) and tcdC (encoding a putative negative regulator of toxin production [52] [53] [54] ), even though this regulator does not have a significant effect on toxin levels under the conditions we used [55, 56] . Of the regions tested, we only observed a clear shifted species, indicative of Spo0A binding, for tcdB ( Figure 4A ); the shifted species in our EMSA assay was reversed by the addition of unlabeled DNA containing a high affinity binding site, but not by DNA lacking such a site ( Figure S1E ). For tcdC, some smearing was observed at all concentrations of proteins tested ( Figure 4A ), and there did not seem to be a clear effect of the addition of unlabeled DNA fragments ( Figure S1F ). The probes for tcdA, tcdE and tcdR were indistinguishable from those obtained with our negative control, spoVG.\\n\\nWe wanted to determine if toxin levels in culture supernatants were directly or indirectly affected by Spo0A, as was previously suggested. We found no lower toxicity towards Vero cells of culture supernatants derived from spo0A mutant cells compared to wild type.\\n\\nWe grew three independent biological replicates of a wild type (630Derm) or Clostron-generated spo0A mutant (CT::spo0A -a kind gift of the Minton lab) in glucose-free TTY medium. We harvested culture supernatant at late-exponential phase (approximately 7 hours post inoculation), the transition phase between exponential and stationary growth phase (approximately 9 hours post inoculation), as well as two time points in stationary phase (24 and 48 hours post inoculation) and determined the toxin endpoint titres (see Materials and Methods). In contrast to previous findings, we observed a small (#4-fold) increase in the toxicity of supernatants derived from spo0A mutant cells compared to wild type, but in all cases this difference was not statistically significant (p.0.05, independent sample t-test). In other medium (BHIS), we observed no differences at all (data not shown).\\n\\nWe conclude that Spo0A does not positively affect toxin production in C. difficile 630Derm and the in vivo relevance of the binding to regions upstream of tcdB and/or tcdC is therefore limited under our experimental conditions.\\n\\nThe Spo0A-box of C. difficile In B. subtilis, the binding site of Spo0A on target DNA has been well-characterized, through a combination of in vitro binding assays, determination of in vivo binding profiles and mutagenesis of regulated promoter sequences. This work has led to the identification of a conserved core motif, TGTCGAA, or Spo0A box [5, 10, 11, 45] . Depending on the analysis, this motif is flanked by one or more adenine or thymine residues [10, 11] . Interestingly, many target genes do not harbor a perfect match to this consensus sequence, but rather contain one or more degenerate motifs. The differences in these motifs may reflect different promoter architectures (e.g. AT content), modes of action (e.g. activation or repression) or levels of regulation. Spo0A genes in B. subtilis can be divided in different classes that respond to different levels of phosphorylated Spo0A [43, 57] .\\n\\nFor C. difficile, we conclude that the Spo0A protein likely recognizes a motif that is similar to the B. subtilis Spo0A box on the basis of four lines of evidence; 1. All DNA binding/contacting residues are conserved (Fig. 2B) , 2. C. difficile Spo0A can bind with high affinity to a target of B. subtilis Spo0A (Fig. 2D) , 3. Mutagenesis of key residues in the B. subtilis Spo0A box reduces affinity of C. difficile Spo0A for DNA (Fig. 2E ) and 4. A B. subtilis Spo0A box has predictive value for DNA binding by C. difficile Spo0A (Fig. 3A) . It is conceivable that our model system, using the purified DNA binding domain, does not accurately reflect binding to all target sites, if target site selectivity is determined in part by other parts by of the full length protein. It is likely that differences do exist between the preferred binding sites for both proteins that will be evident when a comprehensive analysis is performed of in vivo DNA binding of C. difficile Spo0A; based on the limited data set of this study, a MEME analysis [58] already suggests possible differences in the extended Spo0A motif (W.K. Smits, unpublished observations). These differences may relate to the much higher AT content of C. difficile compared to B. subtilis (71 vs. 56.5%, respectively), or phosphorylation dependent dimerization, for instance.\\n\\nThe initiation of sporulation in B. subtilis is subject to complex regulation (for review see ref [1, 59] ). The activation of Spo0A is controlled by a multi-component phosphorelay that can integrate environmental cues [60] and ensures a gradual increase in the level of phosphorylated Spo0A in the cell [57] . In addition, the transcription of the spo0A gene is controlled by multiple feedback loops. For instance, Spo0A regulates its own transcription by binding to the spo0A promoter [46] , as well as by indirectly stimulating the transcription of sigH, encoding a sigma factor that recognizes the spo0A promoter [48] .\\n\\nIn C. difficile, there are some interesting differences and similarities in the regulatory pathways. Most notably, there seems to be no phosphorelay [2] and the phosphorylation state of Spo0A is supposedly controlled by orphan histidine kinases [35] . The transcription of spo0A in C. difficile is under control of the transition state sigma factor Sigma H [37] , as it is in B. subtilis [61] . Our data indicate that both spo0A and sigH could be targets for direct regulation by Spo0A in C. difficile (Fig. 3A) , raising the possibility of auto-regulation of spo0A. The putative direct regulation of sigH by Spo0A may reflect that the C. difficile genome does not harbor a homolog of the pleiotropic regulator AbrB, which is responsible for the Spo0A-dependent regulation of sigH in B. subtilis [48] . Consistent with a model in which spo0A is positively autoregulated, we noted a sharp increase in the levels of Spo0A as cells approach the stationary growth phase ( Figure 1C) .\\n\\nDownstream of Spo0A, we found binding of Spo0A to DNA upstream of several early sporulation genes, such as spoIIAA, spoIIE, and spoIIGA (Fig. 3B ). All these observations are consistent with direct regulation of these genes by Spo0A in other organisms [5, 45, 49, 62] , and the conservation of the sporulation pathway [2] .\\n\\nThough Spo0A is the key regulator for sporulation in Firmicutes, it regulates numerous other processes in various bacteria. In the non-pathogenic B. subtilis, for instance, the protein also affects competence development, biofilm formation, the production of and resistance to antimicrobial compounds, chromosome dynamics and aspects of phage biology [10, [14] [15] [16] . Importantly, several of these processes are indirectly regulated, through the Spo0A-dependent repression of abrB. Additionally, transcription of abrB responds already to low levels of Spo0A,P [43] . As a result these effects are detectable in late-exponential and early stationary phase, as some Spo0A is present throughout growth in B. subtilis cells.\\n\\nThough abrB is absent from C. difficile, this does not exclude the possibility of indirect transcriptional regulation through Spo0Adependent effects on other regulators. Alternatively, Spo0A may exert a direct effect. In Clostridium acetobutylicum and C. beijerinckii, Spo0A is a direct regulator of solvent formation, as well as sporulation [22, 23] . It seems therefore conceivable that Spo0A in C. difficile also affects aspects of metabolism. In this respect, it is important to note that also in C. difficile Spo0A is detectable from early exponential growth phase on ( Figure 1B) .\\n\\nWe observed direct binding of C. difficile Spo0A to the promoter region of sigH (Fig. 3A) . This gene encodes the key sigma factor for the transition phase, and regulates processes outside sporulation as well [37] . Moreover, we found significant levels of Spo0A from early stationary phase on ( Fig. 1B and unpublished observations) , indicating the regulatory actions of Spo0A need not be limited to stationary phase in C. difficile. In line with this idea, we found a potential regulatory link between Spo0A and two genes that to our knowledge are not related to the sporulation process, the lipoate ligase lplA and the aliphatic sulfonates transporter ssuA (Fig. 3A) . The presence of a putative Spo0A binding site upstream of these genes, as well as the spacing compared to the start codon, is conserved in the problematic Stoke-Mandeville strain (R20291), a member of PCR ribotype 27. This could indicate that these aspects of regulation by Spo0A are conserved in multiple strains of C. difficile.\\n\\nIt should be noted that our work so far has been limited to an in vitro analysis of Spo0A binding, and therefore does not indicate whether activation or repression of the putative target genes occurs in vivo. To answer this question, detailed transcriptome and/or proteome studies have to be performed. In order to distinguish direct from indirect effects, in vivo binding profiles of Spo0A should be performed. The antibodies generated for this study should prove to be useful for this type of experiments.\\n\\nAmongst the pathogenic Firmicutes, Spo0A has been reported to affect toxin production in multiple species. In B. anthracis a spo0A mutation results in elevated levels of AbrB, and concomitantly lower levels of the toxin genes pagA, cya and lef that are under AbrB control [17] . Similarly, the production of the emetic toxin cereulide in B. cereus is greatly repressed in a spo0A mutant, in an AbrB-dependent manner [63] . In contrast, Spo0A directly represses the expression of the cry toxin genes in B. thuringiensis and a spo0A mutant is therefore a hyper-producer of the insecticidal crystal protein [18, 21] . In Clostridium perfringens TpeL, a member of the large clostridial toxins just like TcdA and TcdB, is directly dependent on Spo0A [64] and also the production of enterotoxin in this organism seems to be (indirectly) dependent on sporulation [65, 66] .\\n\\nIn C. difficile an insertional spo0A mutant generated using Clostron technology was reported to have ,10-fold reduced levels of toxin A (TcdA), both intracellularly and extracellularly as well as ,1000-fold reduced toxicity towards Vero cells, which are primarily sensitive towards toxin B (TcdB) [35] . Our in vitro binding data indicate a potential binding site for Spo0A upstream of tcdB and possibly tcdC (Fig. 4A) . However, the in vivo relevance of this binding seems limited as in our hands an independently derived but otherwise identical mutant (a kind gift of the Minton lab; [33] ) did not demonstrate a reduced toxicity towards Vero cells. In contrast, we found that in TTY medium toxin levels were slightly elevated in spo0A mutant cells compared to wild type (#2fold in exponential phase cells up to 4-fold in late-stationary phase cells). The small, and not significant, differences in toxin levels in our experiments might be attributed to differences in the susceptibility of cells for lysis rather than the production of toxin, but could also indicate a negative regulatory effect of Spo0A on toxin production. In support of the latter hypothesis, it was recently reported that a spo0A mutant of C. difficile strain R20291 (a PCR ribotypes 027/BI/NAP1 epidemic strain) demonstrates ,10fold higher toxin levels than its isogenic wild type 30 h post inoculation, and is significantly more virulent in a mouse model of disease [34] .\\n\\nThe differences between Underwood et al [35] on the one hand and our study as well as the study of Deakin and coworkers [34] on the other hand may be explained by differences in experimental conditions, such as the medium used. However, we observed no difference in cytotoxicity between supernatant derived from wild type or spo0A mutant cells when they were grown in BHIS, a medium nearly identical to that used previously (data not shown). Alternatively, the differences could indicate integration of the group II intron at more than one location in the chromosome in the strain used in Underwood et al [35] . In the absence of a complementation experiment and/or Southern blot data, this remains to be established.\\n\\nIn summary, our data are consistent with a model in which the regulation of the major clostridial toxins in C. difficile is not positively affected by Spo0A, in contrast to previous findings and other pathogenic Clostridia. Whether Spo0A is truly a negative regulator of toxin production remains to be confirmed using in vitro and in vivo transcription assays.\\n\\nIn the present study we have for the first time demonstrated direct binding of the DNA binding domain of C. difficile Spo0A to putative target DNA. This work has revealed that aspects of Spo0A binding are conserved between Bacillus and C. difficile (0A box, possible auto-regulation and binding to early sporulation promoters), whereas others are not (the absence of abrB as a direct target in C. difficile, binding to DNA upstream of lplA, ssuA). The effects of Spo0A on toxin production may be similar to those observed for B. thuringiensis [18, 21] . Future work will be aimed at determining the effect of Spo0A on the transcription of the putative target genes, and carry out a comprehensive analysis of Spo0A binding in vivo. The identification of genes affected by Spo0A in C. difficile may shed light on the role of the protein in virulence and pathogenesis of this organism.\\n\\nFigure S1 Specificity controls for binding by Spo0A-DBD-his6. Arrows indicate the position of shifted species (DNA:protein complexes). Titrations with PCR fragments of PabrB (containing a high affinity binding site) and PtcdA (lacking such a site) correspond to approximately 0.1 nM/mL -0.03 nM/ mL. A. Comparison of binding of Spo0A-DBD-his6, Spo0A-his6 and CD2195-his6 binding to the upstream region of spoIIAA. B. Binding of Spo0A-DBD-his6 to the upstream region of spoIIAA is reversed by the addition of PabrB, but not by the addition of PtcdA). C. Binding of Spo0A-DBD-his6 to the upstream region of spoIIE is reversed by the addition of PabrB, but not by the addition of PtcdA. D. Binding of Spo0A-DBD-his6 to the upstream region of spoIIGA is reversed by the addition of PabrB, but not by the addition of PtcdA. E. Binding of Spo0A-DBD-his6 to the upstream region of tcdB is reversed by the addition of PabrB, but not by the addition of PtcdA. F. Binding of Spo0A-DBD-his6 to the upstream region of tcdC is not or moderately affected by the addition of PabrB and/or PtcdA. (TIF) Text S1 Oligonucleotides used in this study and PCR cycling conditions for the EMSA probes. (PDF)\", 'document_id': 1667}\n"
     ]
    }
   ],
   "source": [
    "import json\n",
    "\n",
    "with open(\"covid-qa/covid-qa-dev.json\", \"r\", encoding=\"utf-8\") as f:\n",
    "    covid_qa_dev = json.load(f)\n",
    "\n",
    "# 印出數據範例\n",
    "print(covid_qa_dev[\"data\"][0][\"paragraphs\"][0])\n"
   ]
  },
  {
   "cell_type": "code",
   "execution_count": 11,
   "id": "7e794722-81c9-4cdc-947f-ea4793dfe8fe",
   "metadata": {
    "tags": []
   },
   "outputs": [
    {
     "name": "stderr",
     "output_type": "stream",
     "text": [
      "Device set to use cuda:0\n"
     ]
    }
   ],
   "source": [
    "from transformers import pipeline\n",
    "\n",
    "qa_pipeline = pipeline(\"question-answering\", model=\"deepset/roberta-base-squad2\")\n"
   ]
  },
  {
   "cell_type": "code",
   "execution_count": 9,
   "id": "3068da0f-2d21-4c66-9167-f2a80d4f5f90",
   "metadata": {
    "tags": []
   },
   "outputs": [
    {
     "name": "stderr",
     "output_type": "stream",
     "text": [
      "You seem to be using the pipelines sequentially on GPU. In order to maximize efficiency please use a dataset\n"
     ]
    },
    {
     "name": "stdout",
     "output_type": "stream",
     "text": [
      "[('913', '630Derm'), ('914', 'Spo0A'), ('915', 'Spo0A'), ('916', 'spores'), ('5287', 'kobuvirus and rotavirus shedding in suckling piglets')]\n"
     ]
    }
   ],
   "source": [
    "predictions = {}\n",
    "\n",
    "for entry in covid_qa_dev[\"data\"]:\n",
    "    for paragraph in entry[\"paragraphs\"]:\n",
    "        context = paragraph[\"context\"]\n",
    "        for qa in paragraph[\"qas\"]:\n",
    "            question = qa[\"question\"]\n",
    "            qid = qa[\"id\"]\n",
    "            \n",
    "            # RoBERTa 預測答案\n",
    "            pred = qa_pipeline(question=question, context=context)\n",
    "            \n",
    "            # 儲存預測結果\n",
    "            predictions[qid] = pred[\"answer\"]\n",
    "\n",
    "# 查看前 5 筆預測\n",
    "print(list(predictions.items())[:5])\n"
   ]
  },
  {
   "cell_type": "code",
   "execution_count": 11,
   "id": "555dba79-8783-4f23-b676-6316047d37a5",
   "metadata": {
    "tags": []
   },
   "outputs": [],
   "source": [
    "with open(\"pred.json\", \"w\", encoding=\"utf-8\") as f:\n",
    "    json.dump(predictions, f, indent=4, ensure_ascii=False)\n"
   ]
  },
  {
   "cell_type": "code",
   "execution_count": 1,
   "id": "4089eefc-aaa3-404a-8e63-094f40556b48",
   "metadata": {
    "tags": []
   },
   "outputs": [],
   "source": [
    "# !set PYTHONUTF8=1\n",
    "!python evaluate.py covid-qa/covid-qa-dev.json pred.json --out-file eval.json\n"
   ]
  },
  {
   "cell_type": "code",
   "execution_count": 2,
   "id": "25d1daa0-6964-4fb3-ae02-3f50d57352ee",
   "metadata": {},
   "outputs": [],
   "source": [
    "# from transformers import RobertaForQuestionAnswering, AutoTokenizer, TrainingArguments, Trainer\n",
    "# from datasets import load_dataset\n",
    "\n",
    "# # 讀取 Covid-QA 數據\n",
    "# dataset = load_dataset(\"json\", data_files={\"train\": \"covid-qa-train.json\", \"dev\": \"covid-qa-dev.json\"})\n",
    "\n",
    "# # 載入 RoBERTa QA 模型\n",
    "# model = RobertaForQuestionAnswering.from_pretrained(\"deepset/roberta-base-squad2\")\n",
    "# tokenizer = AutoTokenizer.from_pretrained(\"deepset/roberta-base-squad2\")\n",
    "\n",
    "# # 預處理數據\n",
    "# def preprocess_function(examples):\n",
    "#     return tokenizer(examples[\"question\"], examples[\"context\"], truncation=True, padding=\"max_length\", max_length=512)\n",
    "\n",
    "# tokenized_datasets = dataset.map(preprocess_function, batched=True)\n",
    "\n",
    "# # 設置訓練參數\n",
    "# training_args = TrainingArguments(\n",
    "#     output_dir=\"./results\",\n",
    "#     evaluation_strategy=\"epoch\",\n",
    "#     learning_rate=3e-5,\n",
    "#     per_device_train_batch_size=8,\n",
    "#     per_device_eval_batch_size=8,\n",
    "#     num_train_epochs=3,\n",
    "#     weight_decay=0.01,\n",
    "#     save_total_limit=2,\n",
    "#     save_strategy=\"epoch\",\n",
    "#     load_best_model_at_end=True\n",
    "# )\n",
    "\n",
    "# trainer = Trainer(\n",
    "#     model=model,\n",
    "#     args=training_args,\n",
    "#     train_dataset=tokenized_datasets[\"train\"],\n",
    "#     eval_dataset=tokenized_datasets[\"dev\"]\n",
    "# )\n",
    "\n",
    "# # 選擇是否執行訓練\n",
    "# # trainer.train()\n",
    "\n",
    "# # 儲存微調後的模型（如果訓練過）\n",
    "# # model.save_pretrained(\"./finetuned-roberta\")\n"
   ]
  },
  {
   "cell_type": "code",
   "execution_count": 47,
   "id": "8d8d30fe-2c4b-44e7-9b2c-fd01c297f9f1",
   "metadata": {
    "tags": []
   },
   "outputs": [],
   "source": [
    "# import adapters\n",
    "# from adapters import AutoAdapterModel, AdapterTrainer\n",
    "# from transformers import TrainingArguments, AutoTokenizer\n",
    "# from datasets import load_dataset\n",
    "\n",
    "# # 讀取 Covid-QA 數據\n",
    "# dataset = load_dataset(\"json\", data_files={\"train\": \"covid-qa/covid-qa-train.json\", \"dev\": \"covid-qa/covid-qa-dev.json\"})\n",
    "\n",
    "# # 加載 Tokenizer\n",
    "# tokenizer = AutoTokenizer.from_pretrained(\"deepset/roberta-base-squad2\")\n",
    "\n",
    "# # 預處理數據\n",
    "# def preprocess_function(examples):\n",
    "#     return tokenizer(examples[\"question\"], examples[\"context\"], truncation=True, padding=\"max_length\", max_length=512)\n",
    "\n",
    "# tokenized_datasets = dataset.map(preprocess_function, batched=True)\n",
    "\n",
    "# # 加載 RoBERTa + Adapter\n",
    "# adapter_model = AutoAdapterModel.from_pretrained(\"deepset/roberta-base-squad2\")\n",
    "# adapter_model.add_adapter(\"qa_adapter\", config=\"pfeiffer\")\n",
    "# adapter_model.train_adapter(\"qa_adapter\")  # ✅ 只訓練 Adapter，不影響整個模型\n",
    "\n",
    "# # 設置訓練參數\n",
    "# training_args = TrainingArguments(\n",
    "#     output_dir=\"./adapter_results\",\n",
    "#     evaluation_strategy=\"epoch\",\n",
    "#     learning_rate=5e-5,\n",
    "#     per_device_train_batch_size=16,\n",
    "#     per_device_eval_batch_size=16,\n",
    "#     num_train_epochs=3,\n",
    "#     weight_decay=0.01,\n",
    "#     save_total_limit=2,\n",
    "#     save_strategy=\"epoch\",\n",
    "#     load_best_model_at_end=True\n",
    "# )\n",
    "\n",
    "# trainer = AdapterTrainer(\n",
    "#     model=adapter_model,\n",
    "#     args=training_args,\n",
    "#     train_dataset=tokenized_datasets[\"train\"],\n",
    "#     eval_dataset=tokenized_datasets[\"dev\"]\n",
    "# )\n",
    "\n",
    "# # ✅ 開始 Adapter 訓練\n",
    "# trainer.train()\n",
    "\n",
    "# # ✅ 儲存 Adapter 訓練結果\n",
    "# adapter_model.save_adapter(\"./adapter-qa\", \"qa_adapter\")\n"
   ]
  },
  {
   "cell_type": "code",
   "execution_count": 49,
   "id": "2fe8b10d-0e98-4169-98e6-34fee38661c0",
   "metadata": {},
   "outputs": [],
   "source": [
    "# import adapter_transformers\n",
    "# print(adapter_transformers.__version__)\n"
   ]
  },
  {
   "cell_type": "code",
   "execution_count": 51,
   "id": "278a0ef3-8f8c-4161-8d69-13f2dc7e4cb5",
   "metadata": {},
   "outputs": [
    {
     "name": "stdout",
     "output_type": "stream",
     "text": [
      "原始訓練資料第一筆：\n"
     ]
    },
    {
     "name": "stderr",
     "output_type": "stream",
     "text": [
      "IOPub data rate exceeded.\n",
      "The Jupyter server will temporarily stop sending output\n",
      "to the client in order to avoid crashing it.\n",
      "To change this limit, set the config variable\n",
      "`--ServerApp.iopub_data_rate_limit`.\n",
      "\n",
      "Current values:\n",
      "ServerApp.iopub_data_rate_limit=1000000.0 (bytes/sec)\n",
      "ServerApp.rate_limit_window=3.0 (secs)\n",
      "\n",
      "Map: 100%|███████████████████████████████████| 203/203 [00:05<00:00, 39.43 examples/s]\n"
     ]
    },
    {
     "name": "stdout",
     "output_type": "stream",
     "text": [
      "Tokenization 與標籤準備後訓練資料第一筆：\n",
      "{'input_ids': [0, 2264, 1197, 25599, 267, 38665, 34, 57, 6957, 116, 2, 2, 35985, 4733, 11, 33561, 24811, 5804, 8, 13998, 18189, 50118, 50118, 13082, 640, 39159, 4, 1957, 73, 698, 4, 1866, 176, 73, 3894, 118, 176, 4, 1225, 996, 50118, 50118, 45004, 35, 11778, 36920, 36807, 102, 406, 28945, 3245, 466, 3145, 6361, 34836, 541, 242, 245, 417, 31576, 873, 2036, 242, 5607, 176, 33845, 506, 50118, 50118, 44298, 994, 35, 7772, 261, 6, 5031, 256, 50118, 39525, 35, 2760, 50118, 19174, 100, 35, 158, 4, 1866, 176, 73, 3894, 118, 176, 4, 1225, 996, 50118, 48407, 35, 41754, 12, 1409, 50118, 50118, 47638, 35, 14770, 50118, 50118, 39645, 35, 13288, 2368, 6, 485, 1724, 33, 6957, 10, 1197, 2982, 267, 38665, 6, 10, 128, 20320, 607, 9, 11644, 108, 112, 6, 176, 117, 540, 6, 227, 4007, 4226, 19459, 11, 6451, 35241, 557, 8, 49, 5853, 8615, 1290, 23412, 1338, 88, 5, 8474, 4, 3037, 32164, 173, 15, 557, 1435, 8, 709, 15771, 149, 485, 1022, 11, 5, 3184, 9, 168, 1435, 6, 132, 92, 285, 8, 940, 2660, 16186, 8, 6857, 19555, 8, 618, 30434, 7484, 122, 4374, 7, 14518, 25019, 7, 19850, 23, 5, 13342, 5612, 4, 30920, 154, 42, 3294, 6, 5, 346, 9, 35241, 557, 16043, 5551, 128, 9981, 462, 5033, 108, 14198, 34, 1130, 30413, 6, 62, 18360, 207, 227, 4999, 8, 777, 155, 8, 3348, 7, 1430, 6042, 62, 7, 5, 1455, 183, 4, 274, 1780, 9970, 30, 5, 7265, 9, 92, 557, 4233, 6, 25, 157, 25, 2992, 2199, 6, 701, 8, 97, 10275, 743, 9, 84, 86, 6, 617, 434, 11, 42, 3571, 980, 40, 14217, 535, 4, 2285, 485, 9766, 11, 5, 18441, 797, 9, 9161, 5043, 8, 7696, 7910, 6, 595, 17094, 32, 747, 4087, 7, 2179, 6, 3214, 7, 11386, 8, 16650, 5163, 13, 5910, 12, 3865, 6646, 4506, 46068, 4, 840, 14677, 30, 5, 1482, 705, 19473, 13998, 9779, 128, 26852, 1015, 108, 8, 31380, 11, 5, 21733, 9, 1844, 86, 6, 5, 28809, 9, 84, 232, 16, 3150, 145, 15193, 196, 13, 92, 4003, 6457, 13212, 20643, 8, 34706, 10381, 4, 6202, 41954, 9412, 6, 10, 3294, 1567, 1482, 12, 13283, 33561, 24811, 17094, 16, 855, 6159, 4, 96, 42, 20868, 359, 5428, 462, 5033, 29054, 4383, 3672, 31967, 6, 38, 23168, 10, 3461, 3360, 22688, 209, 12049, 7, 1045, 92, 6, 2375, 6, 33366, 8, 6295, 33561, 24811, 17094, 8, 13998, 7443, 1115, 918, 6, 19, 258, 5, 18831, 8, 5, 1616, 24528, 7, 2634, 447, 11, 84, 2992, 232, 28004, 11, 1508, 4, 50118, 50118, 44662, 42, 12464, 100, 3672, 31967, 6, 38, 17475, 1319, 209, 743, 189, 28, 15960, 30, 34208, 21221, 5, 98, 12, 4155, 128, 24769, 2590, 15561, 108, 9, 21717, 4, 9541, 337, 34062, 31260, 3258, 8, 7213, 37118, 3155, 5910, 7, 1416, 30, 33181, 4506, 7116, 9186, 5845, 4, 635, 6, 209, 6089, 5588, 3284, 14058, 7696, 27802, 9866, 30, 5025, 11361, 6793, 27392, 10070, 8, 49, 40363, 9, 92, 335, 4, 38, 12911, 42, 29832, 21949, 5, 128, 2], 'attention_mask': [1, 1, 1, 1, 1, 1, 1, 1, 1, 1, 1, 1, 1, 1, 1, 1, 1, 1, 1, 1, 1, 1, 1, 1, 1, 1, 1, 1, 1, 1, 1, 1, 1, 1, 1, 1, 1, 1, 1, 1, 1, 1, 1, 1, 1, 1, 1, 1, 1, 1, 1, 1, 1, 1, 1, 1, 1, 1, 1, 1, 1, 1, 1, 1, 1, 1, 1, 1, 1, 1, 1, 1, 1, 1, 1, 1, 1, 1, 1, 1, 1, 1, 1, 1, 1, 1, 1, 1, 1, 1, 1, 1, 1, 1, 1, 1, 1, 1, 1, 1, 1, 1, 1, 1, 1, 1, 1, 1, 1, 1, 1, 1, 1, 1, 1, 1, 1, 1, 1, 1, 1, 1, 1, 1, 1, 1, 1, 1, 1, 1, 1, 1, 1, 1, 1, 1, 1, 1, 1, 1, 1, 1, 1, 1, 1, 1, 1, 1, 1, 1, 1, 1, 1, 1, 1, 1, 1, 1, 1, 1, 1, 1, 1, 1, 1, 1, 1, 1, 1, 1, 1, 1, 1, 1, 1, 1, 1, 1, 1, 1, 1, 1, 1, 1, 1, 1, 1, 1, 1, 1, 1, 1, 1, 1, 1, 1, 1, 1, 1, 1, 1, 1, 1, 1, 1, 1, 1, 1, 1, 1, 1, 1, 1, 1, 1, 1, 1, 1, 1, 1, 1, 1, 1, 1, 1, 1, 1, 1, 1, 1, 1, 1, 1, 1, 1, 1, 1, 1, 1, 1, 1, 1, 1, 1, 1, 1, 1, 1, 1, 1, 1, 1, 1, 1, 1, 1, 1, 1, 1, 1, 1, 1, 1, 1, 1, 1, 1, 1, 1, 1, 1, 1, 1, 1, 1, 1, 1, 1, 1, 1, 1, 1, 1, 1, 1, 1, 1, 1, 1, 1, 1, 1, 1, 1, 1, 1, 1, 1, 1, 1, 1, 1, 1, 1, 1, 1, 1, 1, 1, 1, 1, 1, 1, 1, 1, 1, 1, 1, 1, 1, 1, 1, 1, 1, 1, 1, 1, 1, 1, 1, 1, 1, 1, 1, 1, 1, 1, 1, 1, 1, 1, 1, 1, 1, 1, 1, 1, 1, 1, 1, 1, 1, 1, 1, 1, 1, 1, 1, 1, 1, 1, 1, 1, 1, 1, 1, 1, 1, 1, 1, 1, 1, 1, 1, 1, 1, 1, 1, 1, 1, 1, 1, 1, 1, 1, 1, 1, 1, 1, 1, 1, 1, 1, 1, 1, 1, 1, 1, 1, 1, 1, 1, 1, 1, 1, 1, 1, 1, 1, 1, 1, 1, 1, 1, 1, 1, 1, 1, 1, 1, 1, 1, 1, 1, 1, 1, 1, 1, 1, 1, 1, 1, 1, 1, 1, 1, 1, 1, 1, 1, 1, 1, 1, 1, 1, 1, 1, 1, 1, 1, 1, 1, 1, 1, 1, 1, 1, 1, 1, 1, 1, 1, 1, 1, 1, 1, 1, 1, 1, 1, 1, 1, 1, 1, 1, 1, 1, 1, 1, 1, 1, 1, 1, 1, 1, 1, 1, 1, 1, 1, 1, 1, 1, 1, 1, 1, 1, 1, 1, 1, 1, 1, 1, 1, 1, 1, 1, 1, 1, 1, 1, 1], 'start_positions': 124, 'end_positions': 156}\n"
     ]
    },
    {
     "name": "stderr",
     "output_type": "stream",
     "text": [
      "Some weights of RobertaAdapterModel were not initialized from the model checkpoint at deepset/roberta-base-squad2 and are newly initialized: ['roberta.pooler.dense.bias', 'roberta.pooler.dense.weight']\n",
      "You should probably TRAIN this model on a down-stream task to be able to use it for predictions and inference.\n"
     ]
    },
    {
     "data": {
      "text/html": [
       "\n",
       "    <div>\n",
       "      \n",
       "      <progress value='32' max='5703' style='width:300px; height:20px; vertical-align: middle;'></progress>\n",
       "      [  32/5703 12:17 < 38:42:55, 0.04 it/s, Epoch 0.02/3]\n",
       "    </div>\n",
       "    <table border=\"1\" class=\"dataframe\">\n",
       "  <thead>\n",
       " <tr style=\"text-align: left;\">\n",
       "      <th>Epoch</th>\n",
       "      <th>Training Loss</th>\n",
       "      <th>Validation Loss</th>\n",
       "    </tr>\n",
       "  </thead>\n",
       "  <tbody>\n",
       "  </tbody>\n",
       "</table><p>"
      ],
      "text/plain": [
       "<IPython.core.display.HTML object>"
      ]
     },
     "metadata": {},
     "output_type": "display_data"
    },
    {
     "ename": "KeyboardInterrupt",
     "evalue": "",
     "output_type": "error",
     "traceback": [
      "\u001b[1;31m---------------------------------------------------------------------------\u001b[0m",
      "\u001b[1;31mKeyboardInterrupt\u001b[0m                         Traceback (most recent call last)",
      "Cell \u001b[1;32mIn[51], line 174\u001b[0m\n\u001b[0;32m    166\u001b[0m trainer \u001b[38;5;241m=\u001b[39m AdapterTrainer(\n\u001b[0;32m    167\u001b[0m     model\u001b[38;5;241m=\u001b[39madapter_model,\n\u001b[0;32m    168\u001b[0m     args\u001b[38;5;241m=\u001b[39mtraining_args,\n\u001b[0;32m    169\u001b[0m     train_dataset\u001b[38;5;241m=\u001b[39mtokenized_train,\n\u001b[0;32m    170\u001b[0m     eval_dataset\u001b[38;5;241m=\u001b[39mtokenized_dev\n\u001b[0;32m    171\u001b[0m )\n\u001b[0;32m    173\u001b[0m \u001b[38;5;66;03m# 開始 Adapter 訓練\u001b[39;00m\n\u001b[1;32m--> 174\u001b[0m \u001b[43mtrainer\u001b[49m\u001b[38;5;241;43m.\u001b[39;49m\u001b[43mtrain\u001b[49m\u001b[43m(\u001b[49m\u001b[43m)\u001b[49m\n\u001b[0;32m    176\u001b[0m \u001b[38;5;66;03m# 儲存訓練後的 adapter 權重\u001b[39;00m\n\u001b[0;32m    177\u001b[0m adapter_model\u001b[38;5;241m.\u001b[39msave_adapter(\u001b[38;5;124m\"\u001b[39m\u001b[38;5;124m./adapter-qa\u001b[39m\u001b[38;5;124m\"\u001b[39m, \u001b[38;5;124m\"\u001b[39m\u001b[38;5;124mqa_adapter\u001b[39m\u001b[38;5;124m\"\u001b[39m)\n",
      "File \u001b[1;32m~\\anaconda3\\envs\\NLP203\\lib\\site-packages\\transformers\\trainer.py:2164\u001b[0m, in \u001b[0;36mTrainer.train\u001b[1;34m(self, resume_from_checkpoint, trial, ignore_keys_for_eval, **kwargs)\u001b[0m\n\u001b[0;32m   2162\u001b[0m         hf_hub_utils\u001b[38;5;241m.\u001b[39menable_progress_bars()\n\u001b[0;32m   2163\u001b[0m \u001b[38;5;28;01melse\u001b[39;00m:\n\u001b[1;32m-> 2164\u001b[0m     \u001b[38;5;28;01mreturn\u001b[39;00m \u001b[43minner_training_loop\u001b[49m\u001b[43m(\u001b[49m\n\u001b[0;32m   2165\u001b[0m \u001b[43m        \u001b[49m\u001b[43margs\u001b[49m\u001b[38;5;241;43m=\u001b[39;49m\u001b[43margs\u001b[49m\u001b[43m,\u001b[49m\n\u001b[0;32m   2166\u001b[0m \u001b[43m        \u001b[49m\u001b[43mresume_from_checkpoint\u001b[49m\u001b[38;5;241;43m=\u001b[39;49m\u001b[43mresume_from_checkpoint\u001b[49m\u001b[43m,\u001b[49m\n\u001b[0;32m   2167\u001b[0m \u001b[43m        \u001b[49m\u001b[43mtrial\u001b[49m\u001b[38;5;241;43m=\u001b[39;49m\u001b[43mtrial\u001b[49m\u001b[43m,\u001b[49m\n\u001b[0;32m   2168\u001b[0m \u001b[43m        \u001b[49m\u001b[43mignore_keys_for_eval\u001b[49m\u001b[38;5;241;43m=\u001b[39;49m\u001b[43mignore_keys_for_eval\u001b[49m\u001b[43m,\u001b[49m\n\u001b[0;32m   2169\u001b[0m \u001b[43m    \u001b[49m\u001b[43m)\u001b[49m\n",
      "File \u001b[1;32m~\\anaconda3\\envs\\NLP203\\lib\\site-packages\\transformers\\trainer.py:2526\u001b[0m, in \u001b[0;36mTrainer._inner_training_loop\u001b[1;34m(self, batch_size, args, resume_from_checkpoint, trial, ignore_keys_for_eval)\u001b[0m\n\u001b[0;32m   2523\u001b[0m \u001b[38;5;28;01mwith\u001b[39;00m context():\n\u001b[0;32m   2524\u001b[0m     tr_loss_step \u001b[38;5;241m=\u001b[39m \u001b[38;5;28mself\u001b[39m\u001b[38;5;241m.\u001b[39mtraining_step(model, inputs, num_items_in_batch)\n\u001b[1;32m-> 2526\u001b[0m \u001b[38;5;28;01mif\u001b[39;00m (\n\u001b[0;32m   2527\u001b[0m     args\u001b[38;5;241m.\u001b[39mlogging_nan_inf_filter\n\u001b[0;32m   2528\u001b[0m     \u001b[38;5;129;01mand\u001b[39;00m \u001b[38;5;129;01mnot\u001b[39;00m is_torch_xla_available()\n\u001b[0;32m   2529\u001b[0m     \u001b[38;5;129;01mand\u001b[39;00m (torch\u001b[38;5;241m.\u001b[39misnan(tr_loss_step) \u001b[38;5;129;01mor\u001b[39;00m torch\u001b[38;5;241m.\u001b[39misinf(tr_loss_step))\n\u001b[0;32m   2530\u001b[0m ):\n\u001b[0;32m   2531\u001b[0m     \u001b[38;5;66;03m# if loss is nan or inf simply add the average of previous logged losses\u001b[39;00m\n\u001b[0;32m   2532\u001b[0m     tr_loss \u001b[38;5;241m=\u001b[39m tr_loss \u001b[38;5;241m+\u001b[39m tr_loss \u001b[38;5;241m/\u001b[39m (\u001b[38;5;241m1\u001b[39m \u001b[38;5;241m+\u001b[39m \u001b[38;5;28mself\u001b[39m\u001b[38;5;241m.\u001b[39mstate\u001b[38;5;241m.\u001b[39mglobal_step \u001b[38;5;241m-\u001b[39m \u001b[38;5;28mself\u001b[39m\u001b[38;5;241m.\u001b[39m_globalstep_last_logged)\n\u001b[0;32m   2533\u001b[0m \u001b[38;5;28;01melse\u001b[39;00m:\n",
      "\u001b[1;31mKeyboardInterrupt\u001b[0m: "
     ]
    }
   ],
   "source": [
    "import json\n",
    "from datasets import load_dataset\n",
    "from transformers import AutoTokenizer, TrainingArguments, pipeline\n",
    "from adapters import AutoAdapterModel, AdapterTrainer  # 請確認已安裝 adapters 套件\n",
    "\n",
    "# ================================\n",
    "# 1. 載入原始資料\n",
    "# ================================\n",
    "dataset = load_dataset(\n",
    "    \"json\",\n",
    "    data_files={\n",
    "        \"train\": \"covid-qa/covid-qa-train.json\",\n",
    "        \"dev\": \"covid-qa/covid-qa-dev.json\"\n",
    "    }\n",
    ")\n",
    "\n",
    "print(\"原始訓練資料第一筆：\")\n",
    "# print(dataset[\"train\"][0])\n",
    "\n",
    "# ================================\n",
    "# 2. 扁平化資料 (使用 map 與 batched=True)\n",
    "# ================================\n",
    "def flatten_examples_batched(batch):\n",
    "    \"\"\"\n",
    "    扁平化每一個批次中的原始資料。\n",
    "    假設原始資料的結構類似：\n",
    "      {\n",
    "         \"data\": [\n",
    "             { \"paragraphs\": [ { \"context\": \"...\", \"qas\": [ { \"question\": \"...\", \"id\": \"...\", \"answers\": [...] }, ... ] }, ... ] },\n",
    "             ...\n",
    "         ]\n",
    "      }\n",
    "    但有時 batch[\"data\"] 中的每個元素可能本身就是 list，所以需要處理這種情況。\n",
    "    \"\"\"\n",
    "    new_batch = {\"question\": [], \"context\": [], \"id\": [], \"answers\": []}\n",
    "    for data_item in batch[\"data\"]:\n",
    "        # 如果 data_item 是 list，則展開；否則包成 list\n",
    "        if isinstance(data_item, list):\n",
    "            items = data_item\n",
    "        else:\n",
    "            items = [data_item]\n",
    "        for item in items:\n",
    "            # item 應該是 dict，包含 key \"paragraphs\"\n",
    "            for paragraph in item[\"paragraphs\"]:\n",
    "                context = paragraph[\"context\"]\n",
    "                for qa in paragraph[\"qas\"]:\n",
    "                    new_batch[\"question\"].append(qa[\"question\"])\n",
    "                    new_batch[\"context\"].append(context)\n",
    "                    new_batch[\"id\"].append(qa[\"id\"])\n",
    "                    new_batch[\"answers\"].append(qa.get(\"answers\", []))\n",
    "    return new_batch\n",
    "\n",
    "# 使用範例：\n",
    "flat_train_dataset = dataset[\"train\"].map(flatten_examples_batched, batched=True, remove_columns=[\"data\"])\n",
    "flat_dev_dataset = dataset[\"dev\"].map(flatten_examples_batched, batched=True, remove_columns=[\"data\"])\n",
    "\n",
    "print(\"扁平化後訓練資料第一筆：\")\n",
    "# print(flat_train_dataset[0])\n",
    "\n",
    "\n",
    "# ================================\n",
    "# 3. Tokenization 與準備標籤\n",
    "# ================================\n",
    "tokenizer = AutoTokenizer.from_pretrained(\"deepset/roberta-base-squad2\")\n",
    "\n",
    "def prepare_train_features(examples):\n",
    "    \"\"\"\n",
    "    對每筆 QA 資料進行 tokenization，同時利用 offset_mapping 找出答案在 context 中的 token 起始與結束位置。\n",
    "    此處採用 \"only_second\" 截斷方式（即保留 context 部分），並回傳 overflow 與 offset_mapping 以便後續處理。\n",
    "    \"\"\"\n",
    "    tokenized_examples = tokenizer(\n",
    "        examples[\"question\"],\n",
    "        examples[\"context\"],\n",
    "        truncation=\"only_second\",       # 只截斷 context 部分\n",
    "        max_length=512,\n",
    "        stride=128,\n",
    "        return_overflowing_tokens=True,\n",
    "        return_offsets_mapping=True,\n",
    "        padding=\"max_length\",\n",
    "    )\n",
    "\n",
    "    # 保存每筆 tokenized 結果對應原始樣本的索引\n",
    "    sample_mapping = tokenized_examples.pop(\"overflow_to_sample_mapping\")\n",
    "    offset_mapping = tokenized_examples.pop(\"offset_mapping\")\n",
    "\n",
    "    start_positions = []\n",
    "    end_positions = []\n",
    "\n",
    "    # 依據每個分片處理答案位置\n",
    "    for i, offsets in enumerate(offset_mapping):\n",
    "        sample_index = sample_mapping[i]\n",
    "        answers = examples[\"answers\"][sample_index]  # 此處 answers 為 list（可能為空）\n",
    "        # 若無答案，設定 start 與 end 為 0（或其他你認為適合的值）\n",
    "        if len(answers) == 0:\n",
    "            start_positions.append(0)\n",
    "            end_positions.append(0)\n",
    "        else:\n",
    "            # 取第一筆答案\n",
    "            answer = answers[0]\n",
    "            answer_start = answer[\"answer_start\"]\n",
    "            answer_text = answer[\"text\"]\n",
    "\n",
    "            # tokenized_examples 中 tokens 來自 question 與 context，序列 id 0 為 question、1 為 context\n",
    "            # 找出屬於 context 的 token 部分\n",
    "            sequence_ids = tokenized_examples.sequence_ids(i)\n",
    "            # 找出答案在原始 context 中的結束位置\n",
    "            answer_end = answer_start + len(answer_text)\n",
    "\n",
    "            # 初始化\n",
    "            token_start_index = 0\n",
    "            while token_start_index < len(offsets) and sequence_ids[token_start_index] != 1:\n",
    "                token_start_index += 1\n",
    "            token_end_index = len(offsets) - 1\n",
    "            while token_end_index >= 0 and sequence_ids[token_end_index] != 1:\n",
    "                token_end_index -= 1\n",
    "\n",
    "            # 如果答案不在截斷範圍內，則將標籤設為 0\n",
    "            if not (offsets[token_start_index][0] <= answer_start and offsets[token_end_index][1] >= answer_end):\n",
    "                start_positions.append(0)\n",
    "                end_positions.append(0)\n",
    "            else:\n",
    "                # 在 token_start_index 與 token_end_index 範圍內尋找答案 token\n",
    "                # 找出第一個 token 的 offset 包含 answer_start\n",
    "                while token_start_index < len(offsets) and offsets[token_start_index][0] <= answer_start:\n",
    "                    token_start_index += 1\n",
    "                # token_start_index - 1 為答案起始 token 的 index\n",
    "                start_positions.append(token_start_index - 1)\n",
    "\n",
    "                # 同理，找出第一個 token 的 offset 包含 answer_end\n",
    "                while token_end_index >= 0 and offsets[token_end_index][1] >= answer_end:\n",
    "                    token_end_index -= 1\n",
    "                # token_end_index + 1 為答案結束 token 的 index\n",
    "                end_positions.append(token_end_index + 1)\n",
    "\n",
    "    tokenized_examples[\"start_positions\"] = start_positions\n",
    "    tokenized_examples[\"end_positions\"] = end_positions\n",
    "    return tokenized_examples\n",
    "\n",
    "# 使用 map 進行預處理，batched=False 也可以，但 batched=True 加速運算\n",
    "tokenized_train = flat_train_dataset.map(prepare_train_features, batched=True, remove_columns=[\"question\", \"context\", \"id\", \"answers\"])\n",
    "tokenized_dev = flat_dev_dataset.map(prepare_train_features, batched=True, remove_columns=[\"question\", \"context\", \"id\", \"answers\"])\n",
    "\n",
    "print(\"Tokenization 與標籤準備後訓練資料第一筆：\")\n",
    "print(tokenized_train[0])\n",
    "\n",
    "# ================================\n",
    "# 4. Adapter 模型載入與訓練設定\n",
    "# ================================\n",
    "adapter_model = AutoAdapterModel.from_pretrained(\"deepset/roberta-base-squad2\")\n",
    "adapter_model.add_adapter(\"qa_adapter\", config=\"pfeiffer\")\n",
    "adapter_model.train_adapter(\"qa_adapter\")  # 設定只訓練 adapter 部分\n",
    "\n",
    "training_args = TrainingArguments(\n",
    "    output_dir=\"./adapter_results\",\n",
    "    evaluation_strategy=\"epoch\",\n",
    "    learning_rate=1e-3,\n",
    "    per_device_train_batch_size=8,\n",
    "    per_device_eval_batch_size=8,\n",
    "    num_train_epochs=3,\n",
    "    weight_decay=0.01,\n",
    "    save_total_limit=2,\n",
    "    save_strategy=\"epoch\",\n",
    "    load_best_model_at_end=True\n",
    ")\n",
    "\n",
    "trainer = AdapterTrainer(\n",
    "    model=adapter_model,\n",
    "    args=training_args,\n",
    "    train_dataset=tokenized_train,\n",
    "    eval_dataset=tokenized_dev\n",
    ")\n",
    "\n",
    "# 開始 Adapter 訓練\n",
    "trainer.train()\n",
    "\n",
    "# 儲存訓練後的 adapter 權重\n",
    "adapter_model.save_adapter(\"./adapter-qa\", \"qa_adapter\")\n",
    "\n",
    "# ================================\n",
    "# 5. 問答推論 (QA Inference)\n",
    "# ================================\n",
    "# 注意：推論時可以使用原始資料或扁平化後的資料進行預測\n",
    "qa_pipeline = pipeline(\"question-answering\", model=\"deepset/roberta-base-squad2\", tokenizer=tokenizer)\n",
    "\n",
    "with open(\"covid-qa/covid-qa-dev.json\", \"r\", encoding=\"utf-8\") as f:\n",
    "    covid_qa_dev = json.load(f)\n",
    "\n",
    "predictions = {}\n",
    "for entry in covid_qa_dev[\"data\"]:\n",
    "    for paragraph in entry[\"paragraphs\"]:\n",
    "        context = paragraph[\"context\"]\n",
    "        for qa in paragraph[\"qas\"]:\n",
    "            question = qa[\"question\"]\n",
    "            qid = qa[\"id\"]\n",
    "            pred = qa_pipeline(question=question, context=context)\n",
    "\n",
    "with open(\"pred.json\", \"w\", encoding=\"utf-8\") as f:\n",
    "    json.dump(predictions, f, indent=4, ensure_ascii=False)\n",
    "\n",
    "print(\"前 5 筆推論結果：\")\n",
    "for idx, (qid, answer) in enumerate(predictions.items()):\n",
    "    if idx >= 5:\n",
    "        break\n",
    "    print(f\"ID: {qid} -> 答案: {answer}\")\n"
   ]
  },
  {
   "cell_type": "code",
   "execution_count": 27,
   "id": "3d912434-973a-4e79-83d4-df0264cafd45",
   "metadata": {
    "tags": []
   },
   "outputs": [
    {
     "name": "stdout",
     "output_type": "stream",
     "text": [
      "dict_keys(['data'])\n",
      "<class 'list'>\n",
      "{'paragraphs': [{'qas': [{'question': 'What growing dysjunction has been witnessed?', 'id': '4123', 'answers': [{'text': \"a 'Valley of Death' 1,2 no less, between broadening strides in fundamental biomedical research and their incommensurate reach into the clinic. \", 'answer_start': 292}], 'is_impossible': False}, {'question': 'What is aiming to incorporate pathways to translation at the earliest stages?', 'id': '4124', 'answers': [{'text': ' recent changes in the structure of government funding, 2 new public and private joint ventures and specialist undergraduate and postgraduate courses', 'answer_start': 502}], 'is_impossible': False}, {'question': \"How much  have  the number of biomedical research publications targeting 'translational' concepts has increased ?\", 'id': '4125', 'answers': [{'text': 'exponentially, up 1800%', 'answer_start': 842}], 'is_impossible': False}, {'question': 'What ways to  solve the issues are outlined?', 'id': '4126', 'answers': [{'text': \"by creatively leveraging the so-called 'strengths' of viruses. Viral RNA polymerisation and reverse transcription enable resistance to treatment by conferring extraordinary genetic diversity. \", 'answer_start': 2042}], 'is_impossible': False}, {'question': 'How do these exact processes ultimately restrict viral infectivity?', 'id': '4127', 'answers': [{'text': ' by strongly limiting virus genome sizes and their incorporation of new information. ', 'answer_start': 2302}], 'is_impossible': False}, {'question': 'What does the author coin this evolutionary dilemma as?', 'id': '4128', 'answers': [{'text': \"'information economy paradox'.\", 'answer_start': 2424}], 'is_impossible': False}, {'question': 'How do many viruses resolve this ?', 'id': '4129', 'answers': [{'text': 'by manipulating multifunctional or multitasking host cell proteins (MMHPs), thereby maximising host subversion and viral infectivity at minimal informational cost.', 'answer_start': 2492}], 'is_impossible': False}, {'question': 'How may this \"Achilles Heel\" be safely targeted?', 'id': '4130', 'answers': [{'text': ' via host-oriented therapies to impose devastating informational and fitness barriers on escape mutant selection.', 'answer_start': 2725}], 'is_impossible': False}, {'question': 'Why  may MMHP-targeting therapies exhibit both robust and broadspectrum antiviral efficacy?', 'id': '4131', 'answers': [{'text': 'since MMHPs are often conserved targets within and between virus families,', 'answer_start': 2852}], 'is_impossible': False}, {'question': 'What will  achieving this through drug repurposing do?', 'id': '4132', 'answers': [{'text': ' break the vicious cycle of escalating therapeutic development costs and trivial escape mutant selection, both quickly and in multiple places. ', 'answer_start': 3058}], 'is_impossible': False}, {'question': 'What are also discussed by the author?', 'id': '4133', 'answers': [{'text': ' alternative posttranslational and RNA-based antiviral approaches, designer vaccines, immunotherapy and the emerging field of neo-virology.', 'answer_start': 3215}], 'is_impossible': False}, {'question': 'What does  the author anticipate international efforts will do?', 'id': '4134', 'answers': [{'text': ' will enable the tapping of useful new biological functions and processes, methods for controlling infection, and the deployment of symbiotic or subclinical viruses in new therapies and biotechnologies that are so crucially needed.', 'answer_start': 3429}], 'is_impossible': False}, {'question': 'What do pathogens do upon infection?', 'id': '4138', 'answers': [{'text': 'stimulate expression of numerous host inflammatory factors that support recruitment and activation of immune cells. ', 'answer_start': 3688}], 'is_impossible': False}, {'question': 'What is the flip side ?', 'id': '4139', 'answers': [{'text': 'this same process also causes immunopathology when prolonged or deregulated.', 'answer_start': 3822}], 'is_impossible': False}, {'question': 'What do RBPs do?', 'id': '4140', 'answers': [{'text': 'post-transcriptionally control expression of crucial inflammatory factors in various tissues and their potential therapeutic applications', 'answer_start': 4022}], 'is_impossible': False}, {'question': 'What is included in RBPs?', 'id': '4141', 'answers': [{'text': 'tristetraprolin and AUF1', 'answer_start': 4182}], 'is_impossible': False}, {'question': 'What  do  tristetraprolin and AUF1, do?', 'id': '4142', 'answers': [{'text': 'promote degradation of AU-rich element (ARE)-containing mRNA', 'answer_start': 4214}], 'is_impossible': False}, {'question': 'What do RBPs include?', 'id': '4143', 'answers': [{'text': 'members of the Roquin and Regnase families', 'answer_start': 4276}], 'is_impossible': False}, {'question': 'What domembers of the Roquin and Regnase families do?', 'id': '4144', 'answers': [{'text': 'promote or effect degradation of mRNAs harbouring stem-loop structures', 'answer_start': 4339}], 'is_impossible': False}, {'question': 'What do the RBPs include?', 'id': '4145', 'answers': [{'text': 'RNA methylation machinery', 'answer_start': 4453}], 'is_impossible': False}, {'question': 'What is the increasingly apparent role of RNA methylation machinery ?', 'id': '4146', 'answers': [{'text': 'in controlling inflammatory mRNA stability.', 'answer_start': 4479}], 'is_impossible': False}, {'question': 'Where do these activities take place?', 'id': '4147', 'answers': [{'text': ' in various subcellular compartments ', 'answer_start': 4550}], 'is_impossible': False}, {'question': 'What happens to these activities during infection?', 'id': '4148', 'answers': [{'text': 'are differentially regulated', 'answer_start': 4591}], 'is_impossible': False}, {'question': ' In this way, what do the mRNA-destabilising RBPs constitute ?', 'id': '4149', 'answers': [{'text': \"a 'brake' on the immune system\", 'answer_start': 4686}], 'is_impossible': False}, {'question': \"What can be  done with the  'brake' on the immune system?\", 'id': '4150', 'answers': [{'text': 'may ultimately be toggled therapeutically', 'answer_start': 4724}], 'is_impossible': False}, {'question': 'What does the author anticipate that continued efforts will lead to?', 'id': '4151', 'answers': [{'text': 'Another mRNA under post-transcriptional regulation by Regnase-1 and Roquin', 'answer_start': 5011}], 'is_impossible': False}, {'question': 'What is another mRNA under post-transcriptional regulation by Regnase-1 and Roquin?', 'id': '4152', 'answers': [{'text': ' Furin', 'answer_start': 5088}], 'is_impossible': False}, {'question': 'What does Furin encode?', 'id': '4153', 'answers': [{'text': 'a conserved proprotein convertase crucial in human health and disease.', 'answer_start': 5110}], 'is_impossible': False}, {'question': 'What are Furin, along with other PCSK family members implicated in?', 'id': '4154', 'answers': [{'text': ' in immune regulation, cancer and the entry, maturation or release of a broad array of evolutionarily diverse viruses including human papillomavirus (HPV), influenza (IAV), Ebola (EboV), dengue (DenV) and human immunodeficiency virus (HIV)', 'answer_start': 5246}], 'is_impossible': False}, {'question': 'What do Braun and Sauter review?', 'id': '4155', 'answers': [{'text': ' the roles of furin in these processes, as well as the history and future of furin-targeting therapeutics.', 'answer_start': 5516}], 'is_impossible': False}, {'question': 'What dis their recent work reveal?', 'id': '4156', 'answers': [{'text': 'how two IFN-cinducible factors exhibit broad-spectrum inhibition of IAV, measles (MV), zika (ZikV) and HIV by suppressing furin activity.', 'answer_start': 5671}], 'is_impossible': False}, {'question': 'What has the increasing abundance of affordable, sensitive, high-throughput genome sequencing technologies  led to?', 'id': '4157', 'answers': [{'text': ' a recent boom in metagenomics and the cataloguing of the microbiome of our world.', 'answer_start': 6119}], 'is_impossible': False}, {'question': 'What was this system used for the first time for?', 'id': '4160', 'answers': [{'text': ' to directly sequence an RNA virus genome (IAV)', 'answer_start': 6678}], 'is_impossible': False}, {'question': 'What have decades of basic immunology research  provided ?', 'id': '4161', 'answers': [{'text': 'a near-complete picture of the main armaments in the human antiviral arsenal. ', 'answer_start': 7152}], 'is_impossible': False}, {'question': 'What has this focus on mammalian defences and pathologies sidelined?', 'id': '4162', 'answers': [{'text': 'examination of the types and roles of viruses and antiviral defences that exist throughout our biosphere.', 'answer_start': 7307}], 'is_impossible': False}, {'question': 'What has CRISPR/Cas antiviral immune system of prokaryotes been repurposed as?', 'id': '4163', 'answers': [{'text': 'as a revolutionary gene-editing biotechnology in plants and animals.', 'answer_start': 7513}], 'is_impossible': False}, {'question': 'What is another  case in point?', 'id': '4164', 'answers': [{'text': 'the ancient lineage of nucleocytosolic large DNA viruses (NCLDVs)', 'answer_start': 7596}], 'is_impossible': False}, {'question': 'What are the ancient lineage of NCLDVs?\\n', 'id': '4165', 'answers': [{'text': 'emerging human pathogens that possess enormous genomes of up to several megabases in size encoding hundreds of proteins with unique and unknown functions.', 'answer_start': 7673}], 'is_impossible': False}, {'question': 'What do the recent efforts indicate regarding hundreds of human and avian infectious viruses?', 'id': '4166', 'answers': [{'text': ' the true number may be in the millions and many harbour zoonotic potential. ', 'answer_start': 7949}], 'is_impossible': False}, {'question': 'What is neo-virology?', 'id': '4167', 'answers': [{'text': ' an emerging field engaged in cataloguing and characterising this biodiversity through a global consortium.', 'answer_start': 8235}], 'is_impossible': False}, {'question': 'What is predicted these efforts on neo-virology will unlock?', 'id': '4168', 'answers': [{'text': 'a vast wealth of currently unexplored biodiversity, leading to biotechnologies and treatments that leverage the host-virus interactions developed throughout evolution.', 'answer_start': 8382}], 'is_impossible': False}, {'question': 'What are the two of the four pillars of the National Innovation and Science Agenda?', 'id': '4169', 'answers': [{'text': 'Supporting industry-academia collaboration and nurturing talent and skills in the Indo-Pacific region', 'answer_start': 8965}], 'is_impossible': False}, {'question': \"What do Australia's Medical Research and Innovation Priorities include?\", 'id': '4170', 'answers': [{'text': 'antimicrobial resistance, global health and health security, drug repurposing and translational research infrastructure,', 'answer_start': 9226}], 'is_impossible': False}, {'question': 'What is essential for these priority outcomes?', 'id': '4171', 'answers': [{'text': 'Establishing durable international relationships that integrate diverse expertise', 'answer_start': 9414}], 'is_impossible': False}, {'question': 'What is the Japan AMED tasked with?', 'id': '4172', 'answers': [{'text': 'translating the biomedical research output of that country.', 'answer_start': 9774}], 'is_impossible': False}], 'context': \"Frontiers in antiviral therapy and immunotherapy\\n\\nhttps://doi.org/10.1002/cti2.1115\\n\\nSHA: facbfdfa7189ca9ff83dc30e5d241ab22e962dbf\\n\\nAuthors: Heaton, Steven M\\nDate: 2020\\nDOI: 10.1002/cti2.1115\\nLicense: cc-by\\n\\nAbstract: nan\\n\\nText: Globally, recent decades have witnessed a growing disjunction, a 'Valley of Death' 1,2 no less, between broadening strides in fundamental biomedical research and their incommensurate reach into the clinic. Plumbing work on research funding and development pipelines through recent changes in the structure of government funding, 2 new public and private joint ventures and specialist undergraduate and postgraduate courses now aim to incorporate pathways to translation at the earliest stages. Reflecting this shift, the number of biomedical research publications targeting 'translational' concepts has increased exponentially, up 1800% between 2003 and 2014 3 and continuing to rise rapidly up to the present day. Fuelled by the availability of new research technologies, as well as changing disease, cost and other pressing issues of our time, further growth in this exciting space will undoubtedly continue. Despite recent advances in the therapeutic control of immune function and viral infection, current therapies are often challenging to develop, expensive to deploy and readily select for resistance-conferring mutants. Shaped by the hostvirus immunological 'arms race' and tempered in the forge of deep time, the biodiversity of our world is increasingly being harnessed for new biotechnologies and therapeutics. Simultaneously, a shift towards host-oriented antiviral therapies is currently underway. In this Clinical & Translational Immunology Special Feature, I illustrate a strategic vision integrating these themes to create new, effective, economical and robust antiviral therapies and immunotherapies, with both the realities and the opportunities afforded to researchers working in our changing world squarely in mind.\\n\\nOpening this CTI Special Feature, I outline ways these issues may be solved by creatively leveraging the so-called 'strengths' of viruses. Viral RNA polymerisation and reverse transcription enable resistance to treatment by conferring extraordinary genetic diversity. However, these exact processes ultimately restrict viral infectivity by strongly limiting virus genome sizes and their incorporation of new information. I coin this evolutionary dilemma the 'information economy paradox'. Many viruses attempt to resolve this by manipulating multifunctional or multitasking host cell proteins (MMHPs), thereby maximising host subversion and viral infectivity at minimal informational cost. 4 I argue this exposes an 'Achilles Heel' that may be safely targeted via host-oriented therapies to impose devastating informational and fitness barriers on escape mutant selection. Furthermore, since MMHPs are often conserved targets within and between virus families, MMHP-targeting therapies may exhibit both robust and broadspectrum antiviral efficacy. Achieving this through drug repurposing will break the vicious cycle of escalating therapeutic development costs and trivial escape mutant selection, both quickly and in multiple places. I also discuss alternative posttranslational and RNA-based antiviral approaches, designer vaccines, immunotherapy and the emerging field of neo-virology. 4 I anticipate international efforts in these areas over the coming decade will enable the tapping of useful new biological functions and processes, methods for controlling infection, and the deployment of symbiotic or subclinical viruses in new therapies and biotechnologies that are so crucially needed.\\n\\nUpon infection, pathogens stimulate expression of numerous host inflammatory factors that support recruitment and activation of immune cells. On the flip side, this same process also causes immunopathology when prolonged or deregulated. 5 In their contribution to this Special Feature, Yoshinaga and Takeuchi review endogenous RNA-binding proteins (RBPs) that post-transcriptionally control expression of crucial inflammatory factors in various tissues and their potential therapeutic applications. 6 These RBPs include tristetraprolin and AUF1, which promote degradation of AU-rich element (ARE)-containing mRNA; members of the Roquin and Regnase families, which respectively promote or effect degradation of mRNAs harbouring stem-loop structures; and the increasingly apparent role of the RNA methylation machinery in controlling inflammatory mRNA stability. These activities take place in various subcellular compartments and are differentially regulated during infection. In this way, mRNA-destabilising RBPs constitute a 'brake' on the immune system, which may ultimately be toggled therapeutically. I anticipate continued efforts in this area will lead to new methods of regaining control over inflammation in autoimmunity, selectively enhancing immunity in immunotherapy, and modulating RNA synthesis and virus replication during infection.\\n\\nAnother mRNA under post-transcriptional regulation by Regnase-1 and Roquin is Furin, which encodes a conserved proprotein convertase crucial in human health and disease. Furin, along with other PCSK family members, is widely implicated in immune regulation, cancer and the entry, maturation or release of a broad array of evolutionarily diverse viruses including human papillomavirus (HPV), influenza (IAV), Ebola (EboV), dengue (DenV) and human immunodeficiency virus (HIV). Here, Braun and Sauter review the roles of furin in these processes, as well as the history and future of furin-targeting therapeutics. 7 They also discuss their recent work revealing how two IFN-cinducible factors exhibit broad-spectrum inhibition of IAV, measles (MV), zika (ZikV) and HIV by suppressing furin activity. 8 Over the coming decade, I expect to see an ever-finer spatiotemporal resolution of host-oriented therapies to achieve safe, effective and broad-spectrum yet costeffective therapies for clinical use.\\n\\nThe increasing abundance of affordable, sensitive, high-throughput genome sequencing technologies has led to a recent boom in metagenomics and the cataloguing of the microbiome of our world. The MinION nanopore sequencer is one of the latest innovations in this space, enabling direct sequencing in a miniature form factor with only minimal sample preparation and a consumer-grade laptop computer. Nakagawa and colleagues here report on their latest experiments using this system, further improving its performance for use in resource-poor contexts for meningitis diagnoses. 9 While direct sequencing of viral genomic RNA is challenging, this system was recently used to directly sequence an RNA virus genome (IAV) for the first time. 10 I anticipate further improvements in the performance of such devices over the coming decade will transform virus surveillance efforts, the importance of which was underscored by the recent EboV and novel coronavirus (nCoV / COVID-19) outbreaks, enabling rapid deployment of antiviral treatments that take resistance-conferring mutations into account.\\n\\nDecades of basic immunology research have provided a near-complete picture of the main armaments in the human antiviral arsenal. Nevertheless, this focus on mammalian defences and pathologies has sidelined examination of the types and roles of viruses and antiviral defences that exist throughout our biosphere. One case in point is the CRISPR/Cas antiviral immune system of prokaryotes, which is now repurposed as a revolutionary gene-editing biotechnology in plants and animals. 11 Another is the ancient lineage of nucleocytosolic large DNA viruses (NCLDVs), which are emerging human pathogens that possess enormous genomes of up to several megabases in size encoding hundreds of proteins with unique and unknown functions. 12 Moreover, hundreds of human-and avian-infective viruses such as IAV strain H5N1 are known, but recent efforts indicate the true number may be in the millions and many harbour zoonotic potential. 13 It is increasingly clear that host-virus interactions have generated truly vast yet poorly understood and untapped biodiversity. Closing this Special Feature, Watanabe and Kawaoka elaborate on neo-virology, an emerging field engaged in cataloguing and characterising this biodiversity through a global consortium. 14 I predict these efforts will unlock a vast wealth of currently unexplored biodiversity, leading to biotechnologies and treatments that leverage the host-virus interactions developed throughout evolution.\\n\\nWhen biomedical innovations fall into the 'Valley of Death', patients who are therefore not reached all too often fall with them. Being entrusted with the resources and expectation to conceive, deliver and communicate dividends to society is both cherished and eagerly pursued at every stage of our careers. Nevertheless, the road to research translation is winding and is built on a foundation of basic research. Supporting industry-academia collaboration and nurturing talent and skills in the Indo-Pacific region are two of the four pillars of the National Innovation and Science Agenda. 2 These frame Australia's Medical Research and Innovation Priorities, which include antimicrobial resistance, global health and health security, drug repurposing and translational research infrastructure, 15 capturing many of the key elements of this CTI Special Feature. Establishing durable international relationships that integrate diverse expertise is essential to delivering these outcomes. To this end, NHMRC has recently taken steps under the International Engagement Strategy 16 to increase cooperation with its counterparts overseas. These include the Japan Agency for Medical Research and Development (AMED), tasked with translating the biomedical research output of that country. Given the reciprocal efforts at accelerating bilateral engagement currently underway, 17 the prospects for new areas of international cooperation and mobility have never been more exciting nor urgent. With the above in mind, all contributions to this CTI Special Feature I have selected from research presented by fellow invitees to the 2018 Awaji International Forum on Infection and Immunity (AIFII) and 2017 Consortium of Biological Sciences (ConBio) conferences in Japan. Both Australia and Japan have strong traditions in immunology and related disciplines, and I predict that the quantity, quality and importance of our bilateral cooperation will accelerate rapidly over the short to medium term. By expanding and cooperatively leveraging our respective research strengths, our efforts may yet solve the many pressing disease, cost and other sustainability issues of our time.\", 'document_id': 2669}]}\n"
     ]
    }
   ],
   "source": [
    "import json\n",
    "\n",
    "with open(\"covid-qa/covid-qa-train.json\", \"r\", encoding=\"utf-8\") as f:\n",
    "    raw_data = json.load(f)\n",
    "\n",
    "print(raw_data.keys())  # 應該包含 \"data\"\n",
    "print(type(raw_data[\"data\"]))  # 應該是 list\n",
    "print(raw_data[\"data\"][0])  # 應該包含 \"paragraphs\"\n"
   ]
  },
  {
   "cell_type": "code",
   "execution_count": null,
   "id": "258f190b-8469-485b-bfcb-513ab062b7b1",
   "metadata": {},
   "outputs": [],
   "source": []
  }
 ],
 "metadata": {
  "kernelspec": {
   "display_name": "Python (NLP203)",
   "language": "python",
   "name": "nlp203"
  },
  "language_info": {
   "codemirror_mode": {
    "name": "ipython",
    "version": 3
   },
   "file_extension": ".py",
   "mimetype": "text/x-python",
   "name": "python",
   "nbconvert_exporter": "python",
   "pygments_lexer": "ipython3",
   "version": "3.9.21"
  }
 },
 "nbformat": 4,
 "nbformat_minor": 5
}
