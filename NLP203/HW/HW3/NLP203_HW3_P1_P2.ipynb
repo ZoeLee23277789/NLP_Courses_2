{
  "nbformat": 4,
  "nbformat_minor": 0,
  "metadata": {
    "colab": {
      "provenance": [],
      "machine_shape": "hm",
      "gpuType": "A100"
    },
    "kernelspec": {
      "name": "python3",
      "display_name": "Python 3"
    },
    "language_info": {
      "name": "python"
    },
    "accelerator": "GPU"
  },
  "cells": [
    {
      "cell_type": "code",
      "execution_count": 2,
      "metadata": {
        "colab": {
          "base_uri": "https://localhost:8080/"
        },
        "id": "Qmd_J26rHiqh",
        "outputId": "bab9563a-5277-4156-b8f6-6a9ffab113b8"
      },
      "outputs": [
        {
          "output_type": "stream",
          "name": "stdout",
          "text": [
            "Collecting pulp\n",
            "  Downloading PuLP-3.0.2-py3-none-any.whl.metadata (6.7 kB)\n",
            "Downloading PuLP-3.0.2-py3-none-any.whl (17.7 MB)\n",
            "\u001b[2K   \u001b[90m━━━━━━━━━━━━━━━━━━━━━━━━━━━━━━━━━━━━━━━━\u001b[0m \u001b[32m17.7/17.7 MB\u001b[0m \u001b[31m93.2 MB/s\u001b[0m eta \u001b[36m0:00:00\u001b[0m\n",
            "\u001b[?25hInstalling collected packages: pulp\n",
            "Successfully installed pulp-3.0.2\n"
          ]
        }
      ],
      "source": [
        "!pip install pulp\n"
      ]
    },
    {
      "cell_type": "code",
      "source": [
        "from pulp import LpMaximize, LpProblem, LpVariable, lpSum\n",
        "import random\n",
        "\n",
        "# 轉移數量 T 代表 T 個轉移，對應 T+1 個 token (包含 START 和 STOP)\n",
        "T = 5\n",
        "\n",
        "# 定義普通標籤\n",
        "normal_labels = ['O', 'B', 'I']\n",
        "num_normal = len(normal_labels)\n",
        "\n",
        "# 定義特殊標籤\n",
        "start_token = 'START'\n",
        "stop_token = 'STOP'\n",
        "\n",
        "# 取得普通標籤的索引\n",
        "label_to_index = {label: idx for idx, label in enumerate(normal_labels)}\n",
        "B_idx = label_to_index['B']\n",
        "O_idx = label_to_index['O']\n",
        "I_idx = label_to_index['I']\n",
        "\n",
        "# 定義 ILP 問題\n",
        "model = LpProblem(\"sequence-labeling\", LpMaximize)\n",
        "\n",
        "# 定義變數 x\n",
        "# t = 0: 從 START 轉移到某個普通標籤\n",
        "x = {}\n",
        "for j in range(num_normal):\n",
        "    x[0, start_token, j] = LpVariable(f\"x_0_START_{j}\", cat=\"Binary\")\n",
        "\n",
        "# t = 1 到 T-2: 普通標籤之間的轉移\n",
        "for t in range(1, T-1):\n",
        "    for i in range(num_normal):\n",
        "        for j in range(num_normal):\n",
        "            x[t, i, j] = LpVariable(f\"x_{t}_{i}_{j}\", cat=\"Binary\")\n",
        "\n",
        "# t = T-1: 從某個普通標籤轉移到 STOP\n",
        "for i in range(num_normal):\n",
        "    x[T-1, i, stop_token] = LpVariable(f\"x_{T-1}_{i}_STOP\", cat=\"Binary\")\n",
        "\n",
        "# 隨機初始化轉移分數\n",
        "s = {}\n",
        "# t = 0: START -> 普通標籤\n",
        "for j in range(num_normal):\n",
        "    s[0, start_token, j] = random.uniform(-1, 1)\n",
        "# t = 1 到 T-2: 普通標籤之間的轉移\n",
        "for t in range(1, T-1):\n",
        "    for i in range(num_normal):\n",
        "        for j in range(num_normal):\n",
        "            s[t, i, j] = random.uniform(-1, 1)\n",
        "# t = T-1: 普通標籤 -> STOP\n",
        "for i in range(num_normal):\n",
        "    s[T-1, i, stop_token] = random.uniform(-1, 1)\n",
        "\n",
        "# 目標函數：最大化總得分\n",
        "model += lpSum(s[key] * x[key] for key in x)\n",
        "\n",
        "# 約束：每個時間步只能選擇一個轉移\n",
        "# t = 0\n",
        "model += lpSum(x[0, start_token, j] for j in range(num_normal)) == 1\n",
        "# t = 1 到 T-2\n",
        "for t in range(1, T-1):\n",
        "    model += lpSum(x[t, i, j] for i in range(num_normal) for j in range(num_normal)) == 1\n",
        "# t = T-1\n",
        "model += lpSum(x[T-1, i, stop_token] for i in range(num_normal)) == 1\n",
        "\n",
        "# 連續性約束：\n",
        "# (1) t = 0 到 t = 1：第一個轉移的目的標籤應成為下一步的來源標籤\n",
        "for j in range(num_normal):\n",
        "    model += x[0, start_token, j] == lpSum(x[1, j, k] for k in range(num_normal))\n",
        "# (2) t = 1 到 t = T-2：對每個普通標籤，前一轉移的目的等於下一轉移的來源\n",
        "for t in range(1, T-2):\n",
        "    for label in range(num_normal):\n",
        "        model += lpSum(x[t, i, label] for i in range(num_normal)) == lpSum(x[t+1, label, j] for j in range(num_normal))\n",
        "# (3) t = T-2 到 t = T-1：中間步驟的目的標籤等於最後步驟轉移中的來源標籤\n",
        "for label in range(num_normal):\n",
        "    model += lpSum(x[T-2, i, label] for i in range(num_normal)) == x[T-1, label, stop_token]\n",
        "\n",
        "# BIO 規則：\n",
        "# (a) I 不可跟在 O 之後：適用於普通標籤之間的轉移 (t = 1 到 T-2)\n",
        "for t in range(1, T-1):\n",
        "    model += x[t, O_idx, I_idx] == 0\n",
        "\n",
        "# (b) 第一個轉移（t = 0）的目的標籤必須是 B\n",
        "for j in range(num_normal):\n",
        "    if j != B_idx:\n",
        "        model += x[0, start_token, j] == 0\n",
        "\n",
        "# 求解 ILP\n",
        "model.solve()\n",
        "\n",
        "print(\"🔹 Optimal Sequence Labeling Path:\")\n",
        "# t = 0: START -> 普通標籤\n",
        "for j in range(num_normal):\n",
        "    if x[0, start_token, j].value() == 1:\n",
        "        print(f\"Time step 0: {start_token} -> {normal_labels[j]}\")\n",
        "# t = 1 到 T-2：普通標籤之間的轉移\n",
        "for t in range(1, T-1):\n",
        "    for i in range(num_normal):\n",
        "        for j in range(num_normal):\n",
        "            if x[t, i, j].value() == 1:\n",
        "                print(f\"Time step {t}: {normal_labels[i]} -> {normal_labels[j]}\")\n",
        "# t = T-1: 普通標籤 -> STOP\n",
        "for i in range(num_normal):\n",
        "    if x[T-1, i, stop_token].value() == 1:\n",
        "        print(f\"Time step {T-1}: {normal_labels[i]} -> {stop_token}\")\n"
      ],
      "metadata": {
        "colab": {
          "base_uri": "https://localhost:8080/"
        },
        "id": "mZyFU0b3s0vJ",
        "outputId": "af74066e-e088-4a9f-aa79-20fc617b19e9"
      },
      "execution_count": 3,
      "outputs": [
        {
          "output_type": "stream",
          "name": "stdout",
          "text": [
            "🔹 Optimal Sequence Labeling Path:\n",
            "Time step 0: START -> B\n",
            "Time step 1: B -> B\n",
            "Time step 2: B -> I\n",
            "Time step 3: I -> O\n",
            "Time step 4: O -> STOP\n"
          ]
        }
      ]
    },
    {
      "cell_type": "code",
      "source": [
        "from pulp import LpMaximize, LpProblem, LpVariable, lpSum, LpBinary\n",
        "import random\n",
        "\n",
        "# 設定句子長度 (n=5 表示有 5 個非根節點: w1, ..., w5)\n",
        "n = 5\n",
        "words = [\"$\", \"w1\", \"w2\", \"w3\", \"w4\", \"w5\"]\n",
        "\n",
        "# 建立 ILP 模型 (最大化問題)\n",
        "model = LpProblem(\"DependencyParsing\", LpMaximize)\n",
        "\n",
        "# 定義變數：x[i,j] 表示 w_i 為 w_j 的父節點\n",
        "# i 範圍從 0 (根節點) 到 n，j 範圍從 1 到 n (非根節點)\n",
        "x = {}\n",
        "for i in range(n+1):\n",
        "    for j in range(1, n+1):\n",
        "        x[(i, j)] = LpVariable(f\"x_{i}_{j}\", cat=LpBinary)\n",
        "\n",
        "# 禁止自環：對於每個非根節點 w_j, 令 x[j,j] = 0\n",
        "for j in range(1, n+1):\n",
        "    model += x[(j, j)] == 0\n",
        "\n",
        "# 每個非根節點必須恰好有一個父節點：對 j=1,...,n\n",
        "for j in range(1, n+1):\n",
        "    model += lpSum(x[(i, j)] for i in range(n+1)) == 1\n",
        "\n",
        "# 假設 score(i,j) 為轉移分數，這裡用隨機分數示例\n",
        "score = {}\n",
        "for i in range(n+1):\n",
        "    for j in range(1, n+1):\n",
        "        score[(i, j)] = random.uniform(-1, 1)\n",
        "\n",
        "# 目標函數：最大化所有轉移分數之和\n",
        "model += lpSum(score[(i, j)] * x[(i, j)] for i in range(n+1) for j in range(1, n+1))\n",
        "\n",
        "# 可選：如果需要投射性約束 (Projectivity)，可加入以下約束：\n",
        "for i in range(n+1):\n",
        "    for j in range(i+1, n+1):\n",
        "        if j - i - 1 > 0:\n",
        "            model += (j - i - 1) * x[(i, j)] <= lpSum(x[(p, k)] for k in range(i+1, j) for p in range(i, j+1))\n",
        "\n",
        "# 求解 ILP 模型\n",
        "model.solve()\n",
        "\n",
        "# 輸出依存解析結果\n",
        "print(\"Dependency Parsing Tree:\")\n",
        "for j in range(1, n+1):\n",
        "    for i in range(n+1):\n",
        "        if x[(i, j)].varValue == 1:\n",
        "            print(f\"Parent of {words[j]} is {words[i]}\")\n"
      ],
      "metadata": {
        "colab": {
          "base_uri": "https://localhost:8080/"
        },
        "id": "9iVgi8V7J8Zp",
        "outputId": "ee2bc93f-c9a9-4dbc-9546-d69960062aeb"
      },
      "execution_count": null,
      "outputs": [
        {
          "output_type": "stream",
          "name": "stdout",
          "text": [
            "Dependency Parsing Tree:\n",
            "Parent of w1 is $\n",
            "Parent of w2 is $\n",
            "Parent of w3 is $\n",
            "Parent of w4 is w5\n",
            "Parent of w5 is w3\n"
          ]
        }
      ]
    }
  ]
}