{
  "cells": [
    {
      "cell_type": "code",
      "execution_count": 2,
      "metadata": {
        "colab": {
          "base_uri": "https://localhost:8080/"
        },
        "id": "Qmd_J26rHiqh",
        "outputId": "bab9563a-5277-4156-b8f6-6a9ffab113b8"
      },
      "outputs": [
        {
          "name": "stdout",
          "output_type": "stream",
          "text": [
            "Collecting pulp\n",
            "  Downloading PuLP-3.0.2-py3-none-any.whl.metadata (6.7 kB)\n",
            "Downloading PuLP-3.0.2-py3-none-any.whl (17.7 MB)\n",
            "\u001b[2K   \u001b[90m━━━━━━━━━━━━━━━━━━━━━━━━━━━━━━━━━━━━━━━━\u001b[0m \u001b[32m17.7/17.7 MB\u001b[0m \u001b[31m93.2 MB/s\u001b[0m eta \u001b[36m0:00:00\u001b[0m\n",
            "\u001b[?25hInstalling collected packages: pulp\n",
            "Successfully installed pulp-3.0.2\n"
          ]
        }
      ],
      "source": [
        "!pip install pulp\n"
      ]
    },
    {
      "cell_type": "code",
      "execution_count": 3,
      "metadata": {
        "colab": {
          "base_uri": "https://localhost:8080/"
        },
        "id": "mZyFU0b3s0vJ",
        "outputId": "af74066e-e088-4a9f-aa79-20fc617b19e9"
      },
      "outputs": [
        {
          "name": "stdout",
          "output_type": "stream",
          "text": [
            "🔹 Optimal Sequence Labeling Path:\n",
            "Time step 0: START -> B\n",
            "Time step 1: B -> B\n",
            "Time step 2: B -> I\n",
            "Time step 3: I -> O\n",
            "Time step 4: O -> STOP\n"
          ]
        }
      ],
      "source": [
        "from pulp import LpMaximize, LpProblem, LpVariable, lpSum\n",
        "import random\n",
        "\n",
        "T = 5\n",
        "\n",
        "normal_labels = ['O', 'B', 'I']\n",
        "num_normal = len(normal_labels)\n",
        "\n",
        "start_token = 'START'\n",
        "stop_token = 'STOP'\n",
        "\n",
        "label_to_index = {label: idx for idx, label in enumerate(normal_labels)}\n",
        "B_idx = label_to_index['B']\n",
        "O_idx = label_to_index['O']\n",
        "I_idx = label_to_index['I']\n",
        "\n",
        "model = LpProblem(\"sequence-labeling\", LpMaximize)\n",
        "\n",
        "x = {}\n",
        "for j in range(num_normal):\n",
        "    x[0, start_token, j] = LpVariable(f\"x_0_START_{j}\", cat=\"Binary\")\n",
        "\n",
        "for t in range(1, T-1):\n",
        "    for i in range(num_normal):\n",
        "        for j in range(num_normal):\n",
        "            x[t, i, j] = LpVariable(f\"x_{t}_{i}_{j}\", cat=\"Binary\")\n",
        "\n",
        "for i in range(num_normal):\n",
        "    x[T-1, i, stop_token] = LpVariable(f\"x_{T-1}_{i}_STOP\", cat=\"Binary\")\n",
        "\n",
        "s = {}\n",
        "for j in range(num_normal):\n",
        "    s[0, start_token, j] = random.uniform(-1, 1)\n",
        "\n",
        "for t in range(1, T-1):\n",
        "    for i in range(num_normal):\n",
        "        for j in range(num_normal):\n",
        "            s[t, i, j] = random.uniform(-1, 1)\n",
        "\n",
        "for i in range(num_normal):\n",
        "    s[T-1, i, stop_token] = random.uniform(-1, 1)\n",
        "\n",
        "\n",
        "model += lpSum(s[key] * x[key] for key in x)\n",
        "\n",
        "\n",
        "model += lpSum(x[0, start_token, j] for j in range(num_normal)) == 1\n",
        "\n",
        "for t in range(1, T-1):\n",
        "    model += lpSum(x[t, i, j] for i in range(num_normal) for j in range(num_normal)) == 1\n",
        "\n",
        "model += lpSum(x[T-1, i, stop_token] for i in range(num_normal)) == 1\n",
        "\n",
        "\n",
        "for j in range(num_normal):\n",
        "    model += x[0, start_token, j] == lpSum(x[1, j, k] for k in range(num_normal))\n",
        "\n",
        "for t in range(1, T-2):\n",
        "    for label in range(num_normal):\n",
        "        model += lpSum(x[t, i, label] for i in range(num_normal)) == lpSum(x[t+1, label, j] for j in range(num_normal))\n",
        "\n",
        "for label in range(num_normal):\n",
        "    model += lpSum(x[T-2, i, label] for i in range(num_normal)) == x[T-1, label, stop_token]\n",
        "\n",
        "\n",
        "for t in range(1, T-1):\n",
        "    model += x[t, O_idx, I_idx] == 0\n",
        "\n",
        "\n",
        "for j in range(num_normal):\n",
        "    if j != B_idx:\n",
        "        model += x[0, start_token, j] == 0\n",
        "\n",
        "\n",
        "model.solve()\n",
        "\n",
        "print(\"🔹 Optimal Sequence Labeling Path:\")\n",
        "\n",
        "for j in range(num_normal):\n",
        "    if x[0, start_token, j].value() == 1:\n",
        "        print(f\"Time step 0: {start_token} -> {normal_labels[j]}\")\n",
        "\n",
        "for t in range(1, T-1):\n",
        "    for i in range(num_normal):\n",
        "        for j in range(num_normal):\n",
        "            if x[t, i, j].value() == 1:\n",
        "                print(f\"Time step {t}: {normal_labels[i]} -> {normal_labels[j]}\")\n",
        "\n",
        "for i in range(num_normal):\n",
        "    if x[T-1, i, stop_token].value() == 1:\n",
        "        print(f\"Time step {T-1}: {normal_labels[i]} -> {stop_token}\")\n"
      ]
    },
    {
      "cell_type": "code",
      "execution_count": null,
      "metadata": {
        "colab": {
          "base_uri": "https://localhost:8080/"
        },
        "id": "9iVgi8V7J8Zp",
        "outputId": "ee2bc93f-c9a9-4dbc-9546-d69960062aeb"
      },
      "outputs": [
        {
          "name": "stdout",
          "output_type": "stream",
          "text": [
            "Dependency Parsing Tree:\n",
            "Parent of w1 is $\n",
            "Parent of w2 is $\n",
            "Parent of w3 is $\n",
            "Parent of w4 is w5\n",
            "Parent of w5 is w3\n"
          ]
        }
      ],
      "source": [
        "from pulp import LpMaximize, LpProblem, LpVariable, lpSum, LpBinary\n",
        "import random\n",
        "\n",
        "\n",
        "n = 5\n",
        "words = [\"$\", \"w1\", \"w2\", \"w3\", \"w4\", \"w5\"]\n",
        "\n",
        "\n",
        "model = LpProblem(\"DependencyParsing\", LpMaximize)\n",
        "\n",
        "\n",
        "x = {}\n",
        "for i in range(n+1):\n",
        "    for j in range(1, n+1):\n",
        "        x[(i, j)] = LpVariable(f\"x_{i}_{j}\", cat=LpBinary)\n",
        "\n",
        "\n",
        "for j in range(1, n+1):\n",
        "    model += x[(j, j)] == 0\n",
        "\n",
        "for j in range(1, n+1):\n",
        "    model += lpSum(x[(i, j)] for i in range(n+1)) == 1\n",
        "\n",
        "\n",
        "score = {}\n",
        "for i in range(n+1):\n",
        "    for j in range(1, n+1):\n",
        "        score[(i, j)] = random.uniform(-1, 1)\n",
        "\n",
        "model += lpSum(score[(i, j)] * x[(i, j)] for i in range(n+1) for j in range(1, n+1))\n",
        "\n",
        "\n",
        "for i in range(n+1):\n",
        "    for j in range(i+1, n+1):\n",
        "        if j - i - 1 > 0:\n",
        "            model += (j - i - 1) * x[(i, j)] <= lpSum(x[(p, k)] for k in range(i+1, j) for p in range(i, j+1))\n",
        "\n",
        "\n",
        "model.solve()\n",
        "\n",
        "\n",
        "print(\"Dependency Parsing Tree:\")\n",
        "for j in range(1, n+1):\n",
        "    for i in range(n+1):\n",
        "        if x[(i, j)].varValue == 1:\n",
        "            print(f\"Parent of {words[j]} is {words[i]}\")\n"
      ]
    }
  ],
  "metadata": {
    "accelerator": "GPU",
    "colab": {
      "gpuType": "A100",
      "machine_shape": "hm",
      "provenance": []
    },
    "kernelspec": {
      "display_name": "Python 3",
      "name": "python3"
    },
    "language_info": {
      "name": "python"
    }
  },
  "nbformat": 4,
  "nbformat_minor": 0
}
