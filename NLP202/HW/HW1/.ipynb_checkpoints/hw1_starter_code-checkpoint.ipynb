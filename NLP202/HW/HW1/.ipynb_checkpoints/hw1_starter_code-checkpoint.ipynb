{
  "nbformat": 4,
  "nbformat_minor": 0,
  "metadata": {
    "colab": {
      "provenance": []
    },
    "kernelspec": {
      "name": "python3",
      "display_name": "Python 3"
    },
    "language_info": {
      "name": "python"
    },
    "accelerator": "GPU"
  },
  "cells": [
    {
      "cell_type": "code",
      "source": [
        "!pip install torch==1.8.0+cu111 torchvision==0.9.0+cu111 torchaudio==0.8.0 torchtext==0.9.0 -f https://download.pytorch.org/whl/torch_stable.html"
      ],
      "metadata": {
        "id": "40kNYCEFZdr2",
        "colab": {
          "base_uri": "https://localhost:8080/"
        },
        "outputId": "5fce122e-1fb6-48bc-db8f-f4547bf4bbe9"
      },
      "execution_count": null,
      "outputs": [
        {
          "output_type": "stream",
          "name": "stdout",
          "text": [
            "Looking in links: https://download.pytorch.org/whl/torch_stable.html\n",
            "\u001b[31mERROR: Could not find a version that satisfies the requirement torch==1.8.0+cu111 (from versions: 1.13.0, 1.13.0+cpu, 1.13.0+cu116, 1.13.0+cu117, 1.13.0+cu117.with.pypi.cudnn, 1.13.1, 1.13.1+cpu, 1.13.1+cu116, 1.13.1+cu117, 1.13.1+cu117.with.pypi.cudnn, 2.0.0, 2.0.0+cpu, 2.0.0+cpu.cxx11.abi, 2.0.0+cu117, 2.0.0+cu117.with.pypi.cudnn, 2.0.0+cu118, 2.0.1, 2.0.1+cpu, 2.0.1+cpu.cxx11.abi, 2.0.1+cu117, 2.0.1+cu117.with.pypi.cudnn, 2.0.1+cu118, 2.0.1+rocm5.3, 2.0.1+rocm5.4.2, 2.1.0, 2.1.0+cpu, 2.1.0+cpu.cxx11.abi, 2.1.0+cu118, 2.1.0+cu121, 2.1.0+cu121.with.pypi.cudnn, 2.1.0+rocm5.5, 2.1.0+rocm5.6, 2.1.1, 2.1.1+cpu, 2.1.1+cpu.cxx11.abi, 2.1.1+cu118, 2.1.1+cu121, 2.1.1+cu121.with.pypi.cudnn, 2.1.1+rocm5.5, 2.1.1+rocm5.6, 2.1.2, 2.1.2+cpu, 2.1.2+cpu.cxx11.abi, 2.1.2+cu118, 2.1.2+cu121, 2.1.2+cu121.with.pypi.cudnn, 2.1.2+rocm5.5, 2.1.2+rocm5.6, 2.2.0, 2.2.0+cpu, 2.2.0+cpu.cxx11.abi, 2.2.0+cu118, 2.2.0+cu121, 2.2.0+rocm5.6, 2.2.0+rocm5.7, 2.2.1, 2.2.1+cpu, 2.2.1+cpu.cxx11.abi, 2.2.1+cu118, 2.2.1+cu121, 2.2.1+rocm5.6, 2.2.1+rocm5.7, 2.2.2, 2.2.2+cpu, 2.2.2+cpu.cxx11.abi, 2.2.2+cu118, 2.2.2+cu121, 2.2.2+rocm5.6, 2.2.2+rocm5.7, 2.3.0, 2.3.0+cpu, 2.3.0+cpu.cxx11.abi, 2.3.0+cu118, 2.3.0+cu121, 2.3.0+rocm5.7, 2.3.0+rocm6.0, 2.3.1, 2.3.1+cpu, 2.3.1+cpu.cxx11.abi, 2.3.1+cu118, 2.3.1+cu121, 2.3.1+rocm5.7, 2.3.1+rocm6.0, 2.4.0, 2.4.1, 2.5.0, 2.5.1)\u001b[0m\u001b[31m\n",
            "\u001b[0m\u001b[31mERROR: No matching distribution found for torch==1.8.0+cu111\u001b[0m\u001b[31m\n",
            "\u001b[0m"
          ]
        }
      ]
    },
    {
      "cell_type": "code",
      "execution_count": null,
      "metadata": {
        "id": "lffFsqA8BbFV"
      },
      "outputs": [],
      "source": [
        "import torch\n",
        "from torchtext.legacy import data\n",
        "\n",
        "SEED = 1234\n",
        "\n",
        "torch.manual_seed(SEED)\n",
        "torch.backends.cudnn.deterministic = True\n",
        "\n",
        "TEXT = data.Field(tokenize = 'spacy',\n",
        "                  tokenizer_language = 'en_core_web_sm')\n",
        "LABEL = data.LabelField(dtype = torch.float)"
      ]
    },
    {
      "cell_type": "code",
      "source": [
        "from torchtext.legacy import datasets\n",
        "\n",
        "train_data, test_data = datasets.IMDB.splits(TEXT, LABEL)\n",
        "print(f'Number of training examples: {len(train_data)}')\n",
        "print(f'Number of testing examples: {len(test_data)}')\n",
        "print(vars(train_data.examples[0]))"
      ],
      "metadata": {
        "colab": {
          "base_uri": "https://localhost:8080/"
        },
        "id": "IatXWViqB3Pi",
        "outputId": "d1da531e-1bef-4652-9d73-2d7ed1c4c72b"
      },
      "execution_count": null,
      "outputs": [
        {
          "output_type": "stream",
          "name": "stdout",
          "text": [
            "downloading aclImdb_v1.tar.gz\n"
          ]
        },
        {
          "output_type": "stream",
          "name": "stderr",
          "text": [
            "aclImdb_v1.tar.gz: 100%|██████████| 84.1M/84.1M [00:09<00:00, 8.97MB/s]\n"
          ]
        },
        {
          "output_type": "stream",
          "name": "stdout",
          "text": [
            "Number of training examples: 25000\n",
            "Number of testing examples: 25000\n",
            "{'text': ['This', 'is', 'one', 'of', 'my', 'favorites', 'along', 'with', 'the', 'Mariette', 'Hartley', 'and', 'Robert', 'Lansing', '\"', 'Sandy', '\"', 'and', 'the', 'Agnes', 'Moorhead', '-', 'and', '-', 'the', '-', 'tiny', '-', 'spacemen', 'episodes.<br', '/><br', '/>It', 'is', 'an', 'important', 'take', ',', 'from', 'mid-1961', ',', 'on', 'the', 'long', 'Cold', 'War', 'that', 'the', 'U.S.', 'was', 'then', 'embroiled', 'in', '.', 'The', 'beaten', '-', 'down', 'city', '-', 'scene', ',', 'the', 'near', '-', 'starving', 'characters', \"'\", 'sparse', 'dialog', ',', 'their', 'threadbare', 'uniforms', ',', 'and', 'the', 'minimal', 'action', '\"', 'says', '\"', 'it', 'all', ':', 'the', 'absurdity', 'of', 'an', 'on', '-', 'going', 'conflict', 'that', 'threatens', 'to', 'destroy', 'human', 'life', ',', 'modern', 'civilization', ',', 'and', 'all', 'that', 'is', 'sweet', 'and', 'redeeming', 'about', 'it.<br', '/><br', '/>It', 'is', 'a', '\"', 'fable', '\"', 'because', 'it', 'was', 'made', 'in', 'a', 'time', 'in', 'which', ',', 'had', 'events', 'turned', 'out', 'differently', ',', 'such', 'as', 'the', 'second', 'Berlin', 'Crisis', '(', 'Spring', '1961', ')', 'and', 'the', 'subsequent', 'Cuban', 'Missile', 'Crisis', '(', 'Oct.', '1962', ')', ',', 'it', 'would', 'have', 'actually', 'been', 'a', 'reasonable', 'representation', 'of', 'one', 'of', 'the', 'U.S.', \"'s\", 'major', 'cities', ',', 'ruined', 'and', 'replete', 'with', 'a', 'few', 'miserable', 'survivors', '.', 'I', 'also', 'see', 'it', 'as', 'a', '\"', 'fable', '\"', 'because', 'it', 'is', 'not', 'only', 'a', 'cautionary', 'tale', ',', 'but', 'because', 'it', 'is', 'the', 'most', 'redemptive', 'of', 'all', 'our', 'popular', 'myths', ':', 'it', 'is', 'a', 'love', 'story', ',', 'set', 'in', 'an', 'impossible', 'situation', ',', 'and', 'involving', 'two', 'highly', 'mismatched', 'lovers', '.'], 'label': 'pos'}\n"
          ]
        }
      ]
    },
    {
      "cell_type": "code",
      "source": [
        "import random\n",
        "\n",
        "train_data, valid_data = train_data.split(random_state = random.seed(SEED))\n",
        "print(f'Number of training examples: {len(train_data)}')\n",
        "print(f'Number of validation examples: {len(valid_data)}')\n",
        "print(f'Number of testing examples: {len(test_data)}')"
      ],
      "metadata": {
        "colab": {
          "base_uri": "https://localhost:8080/"
        },
        "id": "4RnxEJ0RB3-J",
        "outputId": "f90b770b-b5e4-484c-a726-5a4c9605fd8a"
      },
      "execution_count": null,
      "outputs": [
        {
          "output_type": "stream",
          "name": "stdout",
          "text": [
            "Number of training examples: 17500\n",
            "Number of validation examples: 7500\n",
            "Number of testing examples: 25000\n"
          ]
        }
      ]
    },
    {
      "cell_type": "code",
      "source": [
        "MAX_VOCAB_SIZE = 25_000\n",
        "\n",
        "TEXT.build_vocab(train_data, max_size = MAX_VOCAB_SIZE)\n",
        "LABEL.build_vocab(train_data)\n",
        "print(f\"Unique tokens in TEXT vocabulary: {len(TEXT.vocab)}\")\n",
        "print(f\"Unique tokens in LABEL vocabulary: {len(LABEL.vocab)}\")\n",
        "print(TEXT.vocab.freqs.most_common(20))\n",
        "print(TEXT.vocab.itos[:10])\n",
        "print(LABEL.vocab.stoi)\n",
        "device = torch.device('cuda' if torch.cuda.is_available() else 'cpu')\n",
        "# Do not use BucketIterator in your implementation because you are required to implement the padding and masking yourself.\n",
        "train_iterator, valid_iterator, test_iterator = data.BucketIterator.splits((train_data, valid_data, test_data), batch_size=1, device=device)"
      ],
      "metadata": {
        "colab": {
          "base_uri": "https://localhost:8080/"
        },
        "id": "xtSufWSGB_bw",
        "outputId": "0be3bf5f-754f-434c-cfdd-6e80f5becdf4"
      },
      "execution_count": null,
      "outputs": [
        {
          "output_type": "stream",
          "name": "stdout",
          "text": [
            "Unique tokens in TEXT vocabulary: 25002\n",
            "Unique tokens in LABEL vocabulary: 2\n",
            "[('the', 202186), (',', 192074), ('.', 165398), ('and', 109456), ('a', 109401), ('of', 100861), ('to', 93590), ('is', 76445), ('in', 61150), ('I', 54364), ('it', 53711), ('that', 49253), ('\"', 44028), (\"'s\", 43365), ('this', 42585), ('-', 37121), ('/><br', 35840), ('was', 35004), ('as', 30354), ('movie', 29965)]\n",
            "['<unk>', '<pad>', 'the', ',', '.', 'and', 'a', 'of', 'to', 'is']\n",
            "defaultdict(None, {'neg': 0, 'pos': 1})\n"
          ]
        }
      ]
    },
    {
      "cell_type": "code",
      "source": [
        "import torch.nn as nn\n",
        "class LR(nn.Module):\n",
        "    def __init__(self, input_dim, embedding_dim, output_dim):\n",
        "        super().__init__()\n",
        "        self.embedding = nn.Embedding(input_dim, embedding_dim)\n",
        "        self.fc = nn.Linear(embedding_dim, output_dim)\n",
        "    def forward(self, text):\n",
        "        embedded = self.embedding(text).squeeze().sum(0)\n",
        "        return self.fc(embedded)"
      ],
      "metadata": {
        "id": "nI_gFLUXCEdY"
      },
      "execution_count": null,
      "outputs": []
    },
    {
      "cell_type": "code",
      "source": [
        "INPUT_DIM = len(TEXT.vocab)\n",
        "EMBEDDING_DIM = 100\n",
        "OUTPUT_DIM = 1\n",
        "\n",
        "model = LR(INPUT_DIM, EMBEDDING_DIM, OUTPUT_DIM)"
      ],
      "metadata": {
        "id": "-lZ2obDVDmEl"
      },
      "execution_count": null,
      "outputs": []
    },
    {
      "cell_type": "code",
      "source": [
        "def count_parameters(model):\n",
        "    return sum(p.numel() for p in model.parameters() if p.requires_grad)\n",
        "\n",
        "print(f'The model has {count_parameters(model):,} trainable parameters')"
      ],
      "metadata": {
        "id": "eJ6_rLRuK2l7",
        "colab": {
          "base_uri": "https://localhost:8080/"
        },
        "outputId": "598f59e3-31e6-4f05-dda3-e702f85f0c49"
      },
      "execution_count": null,
      "outputs": [
        {
          "output_type": "stream",
          "name": "stdout",
          "text": [
            "The model has 2,500,301 trainable parameters\n"
          ]
        }
      ]
    },
    {
      "cell_type": "code",
      "source": [
        "import torch.optim as optim\n",
        "\n",
        "optimizer = optim.SGD(model.parameters(), lr=1e-3)"
      ],
      "metadata": {
        "id": "IbufnJzvLAlf"
      },
      "execution_count": null,
      "outputs": []
    },
    {
      "cell_type": "code",
      "source": [
        "criterion = nn.BCEWithLogitsLoss()"
      ],
      "metadata": {
        "id": "I1fHORT8LBOK"
      },
      "execution_count": null,
      "outputs": []
    },
    {
      "cell_type": "code",
      "source": [
        "model = model.to(device)\n",
        "criterion = criterion.to(device)"
      ],
      "metadata": {
        "id": "z3gdBHHULC7y"
      },
      "execution_count": null,
      "outputs": []
    },
    {
      "cell_type": "code",
      "source": [
        "def binary_accuracy(preds, y):\n",
        "    \"\"\"\n",
        "    Returns accuracy per batch, i.e. if you get 8/10 right, this returns 0.8, NOT 8\n",
        "    \"\"\"\n",
        "\n",
        "    #round predictions to the closest integer\n",
        "    rounded_preds = torch.round(torch.sigmoid(preds))\n",
        "    correct = (rounded_preds == y).float() #convert into float for division\n",
        "    acc = correct.sum() / len(correct)\n",
        "    return acc"
      ],
      "metadata": {
        "id": "KF2EdETnLEwt"
      },
      "execution_count": null,
      "outputs": []
    },
    {
      "cell_type": "code",
      "source": [
        "from tqdm import tqdm\n",
        "def train(model, iterator, optimizer, criterion):\n",
        "\n",
        "    epoch_loss = 0\n",
        "    epoch_acc = 0\n",
        "\n",
        "    model.train()\n",
        "\n",
        "    for instance in tqdm(iterator, desc=\"Training...\", total=len(iterator)):\n",
        "\n",
        "        optimizer.zero_grad()\n",
        "\n",
        "        predictions = model(instance.text)\n",
        "\n",
        "        loss = criterion(predictions, instance.label)\n",
        "\n",
        "        acc = binary_accuracy(predictions, instance.label)\n",
        "\n",
        "        loss.backward()\n",
        "\n",
        "        optimizer.step()\n",
        "\n",
        "        epoch_loss += loss.item()\n",
        "        epoch_acc += acc.item()\n",
        "\n",
        "    return epoch_loss / len(iterator), epoch_acc / len(iterator)"
      ],
      "metadata": {
        "id": "2o9l76H5LGm9"
      },
      "execution_count": null,
      "outputs": []
    },
    {
      "cell_type": "code",
      "source": [
        "def evaluate(model, iterator, criterion):\n",
        "\n",
        "    epoch_loss = 0\n",
        "    epoch_acc = 0\n",
        "\n",
        "    model.eval()\n",
        "\n",
        "    with torch.no_grad():\n",
        "\n",
        "        for instance in tqdm(iterator):\n",
        "\n",
        "            predictions = model(instance.text)\n",
        "\n",
        "            loss = criterion(predictions, instance.label)\n",
        "\n",
        "            acc = binary_accuracy(predictions, instance.label)\n",
        "\n",
        "            epoch_loss += loss.item()\n",
        "            epoch_acc += acc.item()\n",
        "\n",
        "    return epoch_loss / len(iterator), epoch_acc / len(iterator)"
      ],
      "metadata": {
        "id": "bBwRhOrzLKSH"
      },
      "execution_count": null,
      "outputs": []
    },
    {
      "cell_type": "code",
      "source": [
        "import time\n",
        "\n",
        "def epoch_time(start_time, end_time):\n",
        "    elapsed_time = end_time - start_time\n",
        "    elapsed_mins = int(elapsed_time / 60)\n",
        "    elapsed_secs = int(elapsed_time - (elapsed_mins * 60))\n",
        "    return elapsed_mins, elapsed_secs"
      ],
      "metadata": {
        "id": "FOHkN5P5LMtl"
      },
      "execution_count": null,
      "outputs": []
    },
    {
      "cell_type": "code",
      "source": [
        "N_EPOCHS = 5\n",
        "\n",
        "best_valid_loss = float('inf')\n",
        "\n",
        "for epoch in range(N_EPOCHS):\n",
        "\n",
        "    start_time = time.time()\n",
        "\n",
        "    train_loss, train_acc = train(model, train_iterator, optimizer, criterion)\n",
        "    valid_loss, valid_acc = evaluate(model, valid_iterator, criterion)\n",
        "\n",
        "    end_time = time.time()\n",
        "\n",
        "    epoch_mins, epoch_secs = epoch_time(start_time, end_time)\n",
        "\n",
        "    if valid_loss < best_valid_loss:\n",
        "        best_valid_loss = valid_loss\n",
        "        torch.save(model.state_dict(), 'tut1-model.pt')\n",
        "\n",
        "    print(f'Epoch: {epoch+1:02} | Epoch Time: {epoch_mins}m {epoch_secs}s')\n",
        "    print(f'\\tTrain Loss: {train_loss:.3f} | Train Acc: {train_acc*100:.2f}%')\n",
        "    print(f'\\t Val. Loss: {valid_loss:.3f} |  Val. Acc: {valid_acc*100:.2f}%')"
      ],
      "metadata": {
        "id": "63EPftxxLOxH",
        "colab": {
          "base_uri": "https://localhost:8080/"
        },
        "outputId": "947e85a2-b5ed-4dd9-8231-a0382c5ff105"
      },
      "execution_count": null,
      "outputs": [
        {
          "output_type": "stream",
          "name": "stderr",
          "text": [
            "Training...: 100%|██████████| 17500/17500 [00:23<00:00, 741.24it/s]\n",
            "100%|██████████| 7500/7500 [00:04<00:00, 1692.47it/s]\n"
          ]
        },
        {
          "output_type": "stream",
          "name": "stdout",
          "text": [
            "Epoch: 01 | Epoch Time: 0m 28s\n",
            "\tTrain Loss: 7.639 | Train Acc: 66.23%\n",
            "\t Val. Loss: 8.041 |  Val. Acc: 63.79%\n"
          ]
        },
        {
          "output_type": "stream",
          "name": "stderr",
          "text": [
            "Training...: 100%|██████████| 17500/17500 [00:25<00:00, 674.33it/s]\n",
            "100%|██████████| 7500/7500 [00:04<00:00, 1763.25it/s]\n"
          ]
        },
        {
          "output_type": "stream",
          "name": "stdout",
          "text": [
            "Epoch: 02 | Epoch Time: 0m 30s\n",
            "\tTrain Loss: 6.871 | Train Acc: 68.65%\n",
            "\t Val. Loss: 6.455 |  Val. Acc: 67.48%\n"
          ]
        },
        {
          "output_type": "stream",
          "name": "stderr",
          "text": [
            "Training...: 100%|██████████| 17500/17500 [00:23<00:00, 748.19it/s]\n",
            "100%|██████████| 7500/7500 [00:04<00:00, 1764.82it/s]\n"
          ]
        },
        {
          "output_type": "stream",
          "name": "stdout",
          "text": [
            "Epoch: 03 | Epoch Time: 0m 27s\n",
            "\tTrain Loss: 6.178 | Train Acc: 69.56%\n",
            "\t Val. Loss: 6.703 |  Val. Acc: 68.35%\n"
          ]
        },
        {
          "output_type": "stream",
          "name": "stderr",
          "text": [
            "Training...: 100%|██████████| 17500/17500 [00:23<00:00, 751.45it/s]\n",
            "100%|██████████| 7500/7500 [00:04<00:00, 1779.95it/s]\n"
          ]
        },
        {
          "output_type": "stream",
          "name": "stdout",
          "text": [
            "Epoch: 04 | Epoch Time: 0m 27s\n",
            "\tTrain Loss: 5.663 | Train Acc: 70.49%\n",
            "\t Val. Loss: 6.744 |  Val. Acc: 67.13%\n"
          ]
        },
        {
          "output_type": "stream",
          "name": "stderr",
          "text": [
            "Training...: 100%|██████████| 17500/17500 [00:23<00:00, 751.55it/s]\n",
            "100%|██████████| 7500/7500 [00:04<00:00, 1763.86it/s]"
          ]
        },
        {
          "output_type": "stream",
          "name": "stdout",
          "text": [
            "Epoch: 05 | Epoch Time: 0m 27s\n",
            "\tTrain Loss: 5.880 | Train Acc: 71.03%\n",
            "\t Val. Loss: 3.959 |  Val. Acc: 71.43%\n"
          ]
        },
        {
          "output_type": "stream",
          "name": "stderr",
          "text": [
            "\n"
          ]
        }
      ]
    },
    {
      "cell_type": "code",
      "source": [
        "model.load_state_dict(torch.load('tut1-model.pt'))\n",
        "\n",
        "test_loss, test_acc = evaluate(model, test_iterator, criterion)\n",
        "\n",
        "print(f'Test Loss: {test_loss:.3f} | Test Acc: {test_acc*100:.2f}%')"
      ],
      "metadata": {
        "id": "s2vQBjeTLTTv",
        "colab": {
          "base_uri": "https://localhost:8080/"
        },
        "outputId": "144cf763-a193-457a-86d6-7a03672c8ba4"
      },
      "execution_count": null,
      "outputs": [
        {
          "output_type": "stream",
          "name": "stderr",
          "text": [
            "100%|██████████| 25000/25000 [00:14<00:00, 1717.65it/s]"
          ]
        },
        {
          "output_type": "stream",
          "name": "stdout",
          "text": [
            "Test Loss: 3.986 | Test Acc: 71.64%\n"
          ]
        },
        {
          "output_type": "stream",
          "name": "stderr",
          "text": [
            "\n"
          ]
        }
      ]
    },
    {
      "cell_type": "code",
      "source": [
        "# Test of model correctness\n",
        "max_n_test_instances = 5\n",
        "i = 1\n",
        "for instance in valid_iterator:\n",
        "  score = model(instance.text)\n",
        "  print(score)\n",
        "  if i >= max_n_test_instances:\n",
        "    break\n",
        "  else:\n",
        "    i += 1\n"
      ],
      "metadata": {
        "id": "Ev4idwpONzs9",
        "colab": {
          "base_uri": "https://localhost:8080/"
        },
        "outputId": "e1fe702d-6d70-4b1c-d4e5-33ac5af9cf06"
      },
      "execution_count": null,
      "outputs": [
        {
          "output_type": "stream",
          "name": "stdout",
          "text": [
            "tensor([-0.6878], device='cuda:0', grad_fn=<AddBackward0>)\n",
            "tensor([-8.1234], device='cuda:0', grad_fn=<AddBackward0>)\n",
            "tensor([1.7464], device='cuda:0', grad_fn=<AddBackward0>)\n",
            "tensor([-0.6018], device='cuda:0', grad_fn=<AddBackward0>)\n",
            "tensor([-3.2418], device='cuda:0', grad_fn=<AddBackward0>)\n"
          ]
        }
      ]
    }
  ]
}